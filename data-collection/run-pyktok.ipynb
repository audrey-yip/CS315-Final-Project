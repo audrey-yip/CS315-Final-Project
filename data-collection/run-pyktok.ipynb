{
 "cells": [
  {
   "cell_type": "markdown",
   "metadata": {},
   "source": [
    "### @ Author : Jyontika Kapoor"
   ]
  },
  {
   "cell_type": "code",
   "execution_count": 11,
   "metadata": {},
   "outputs": [],
   "source": [
    "import os\n",
    "import pandas as pd\n",
    "import json "
   ]
  },
  {
   "cell_type": "markdown",
   "metadata": {},
   "source": [
    "### Taking the 85th Percentile Data Frame and Converting to .json\n",
    "#### This allows us to run PykTok"
   ]
  },
  {
   "cell_type": "code",
   "execution_count": 12,
   "metadata": {},
   "outputs": [],
   "source": [
    "df = pd.read_csv(\"85th_percentile_likes_views.csv\")"
   ]
  },
  {
   "cell_type": "code",
   "execution_count": 13,
   "metadata": {},
   "outputs": [],
   "source": [
    "ids = df['video_id']"
   ]
  },
  {
   "cell_type": "code",
   "execution_count": 14,
   "metadata": {},
   "outputs": [
    {
     "name": "stdout",
     "output_type": "stream",
     "text": [
      "                                                   Link\n",
      "0     https://www.tiktokv.com/share/video/7315561816...\n",
      "1     https://www.tiktokv.com/share/video/7306252753...\n",
      "2     https://www.tiktokv.com/share/video/7316982795...\n",
      "3     https://www.tiktokv.com/share/video/7339562593...\n",
      "4     https://www.tiktokv.com/share/video/7338837606...\n",
      "...                                                 ...\n",
      "1180  https://www.tiktokv.com/share/video/7337387349...\n",
      "1181  https://www.tiktokv.com/share/video/7322961317...\n",
      "1182  https://www.tiktokv.com/share/video/7315878397...\n",
      "1183  https://www.tiktokv.com/share/video/7335885936...\n",
      "1184  https://www.tiktokv.com/share/video/7331930122...\n",
      "\n",
      "[1185 rows x 1 columns]\n"
     ]
    }
   ],
   "source": [
    "##Change the video_ids to URLs\n",
    "\n",
    "urls = [\"https://www.tiktokv.com/share/video/\" + str(video_id) + \"/\" for video_id in ids]\n",
    "\n",
    "# convert  list of URLs to a DataFrame\n",
    "urls_df = pd.DataFrame(urls, columns=['Link'])\n",
    "\n",
    "print(urls_df)"
   ]
  },
  {
   "cell_type": "code",
   "execution_count": 15,
   "metadata": {},
   "outputs": [
    {
     "data": {
      "text/plain": [
       "1185"
      ]
     },
     "execution_count": 15,
     "metadata": {},
     "output_type": "execute_result"
    }
   ],
   "source": [
    "len(urls_df)"
   ]
  },
  {
   "cell_type": "code",
   "execution_count": 17,
   "metadata": {},
   "outputs": [],
   "source": [
    "json_data = urls_df.to_dict(orient='records')\n",
    "\n",
    "# Export the JSON data to a file\n",
    "with open(\"viral_tiktok_urls.json\", \"w\") as json_file:\n",
    "    json.dump(json_data, json_file, indent=4)\n",
    "\n",
    "\n"
   ]
  },
  {
   "cell_type": "code",
   "execution_count": null,
   "metadata": {},
   "outputs": [],
   "source": []
  }
 ],
 "metadata": {
  "kernelspec": {
   "display_name": "Python 3",
   "language": "python",
   "name": "python3"
  },
  "language_info": {
   "codemirror_mode": {
    "name": "ipython",
    "version": 3
   },
   "file_extension": ".py",
   "mimetype": "text/x-python",
   "name": "python",
   "nbconvert_exporter": "python",
   "pygments_lexer": "ipython3",
   "version": "3.12.0"
  }
 },
 "nbformat": 4,
 "nbformat_minor": 2
}
