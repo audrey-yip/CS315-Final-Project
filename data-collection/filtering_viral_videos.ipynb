{
 "cells": [
  {
   "cell_type": "markdown",
   "metadata": {},
   "source": [
    "# Data Exploration\n",
    "Author: Audrey Yip"
   ]
  },
  {
   "cell_type": "code",
   "execution_count": 2,
   "metadata": {},
   "outputs": [],
   "source": [
    "import os\n",
    "import pandas as pd"
   ]
  },
  {
   "cell_type": "code",
   "execution_count": 6,
   "metadata": {},
   "outputs": [
    {
     "name": "stdout",
     "output_type": "stream",
     "text": [
      "Currently processing results_50405_full.csv\n",
      "Currently processing Sec2Gr3_77777.csv\n",
      "Currently processing Sec2Gr3_77217.csv\n",
      "Currently processing Sec2Gr3_74721.csv\n",
      "Currently processing results_38129.csv\n",
      "Currently processing results_26301.csv\n",
      "Currently processing results_33534.csv\n",
      "Currently processing results_12345_full.csv\n",
      "Currently processing section_02.csv\n",
      "Currently processing results_10824_full.csv\n",
      "Currently processing results_69117.csv\n",
      "Total number of videos 169666\n"
     ]
    },
    {
     "name": "stderr",
     "output_type": "stream",
     "text": [
      "/var/folders/3x/2ycn49s93nq5cl2h1z2tvrh00000gn/T/ipykernel_66779/3724251558.py:11: DtypeWarning: Columns (8,16,17,18) have mixed types. Specify dtype option on import or set low_memory=False.\n",
      "  df = pd.read_csv(file_path)\n"
     ]
    }
   ],
   "source": [
    "# read in csvs to create combined df\n",
    "cwd = os.getcwd()\n",
    "metadata_dir = f'{cwd}/donated_data'\n",
    "metadata_files = [file for file in os.listdir(metadata_dir) if 'csv' in file] \n",
    "\n",
    "dataframes = []\n",
    "\n",
    "for file in metadata_files:\n",
    "    print('Currently processing', file)\n",
    "    file_path = os.path.join(metadata_dir, file)\n",
    "    df = pd.read_csv(file_path)\n",
    "    dataframes.append(df)\n",
    "\n",
    "combined_df = pd.concat(dataframes, ignore_index=True)\n",
    "\n",
    "print('Total number of videos', len(combined_df))"
   ]
  },
  {
   "cell_type": "code",
   "execution_count": 57,
   "metadata": {},
   "outputs": [
    {
     "name": "stdout",
     "output_type": "stream",
     "text": [
      "15747\n"
     ]
    },
    {
     "data": {
      "text/html": [
       "<div>\n",
       "<style scoped>\n",
       "    .dataframe tbody tr th:only-of-type {\n",
       "        vertical-align: middle;\n",
       "    }\n",
       "\n",
       "    .dataframe tbody tr th {\n",
       "        vertical-align: top;\n",
       "    }\n",
       "\n",
       "    .dataframe thead th {\n",
       "        text-align: right;\n",
       "    }\n",
       "</style>\n",
       "<table border=\"1\" class=\"dataframe\">\n",
       "  <thead>\n",
       "    <tr style=\"text-align: right;\">\n",
       "      <th></th>\n",
       "      <th>video_id</th>\n",
       "      <th>video_diggcount</th>\n",
       "      <th>video_sharecount</th>\n",
       "      <th>video_commentcount</th>\n",
       "      <th>video_playcount</th>\n",
       "    </tr>\n",
       "  </thead>\n",
       "  <tbody>\n",
       "    <tr>\n",
       "      <th>0</th>\n",
       "      <td>7315561816673750318</td>\n",
       "      <td>3600000.0</td>\n",
       "      <td>40100.0</td>\n",
       "      <td>11000.0</td>\n",
       "      <td>19000000.0</td>\n",
       "    </tr>\n",
       "    <tr>\n",
       "      <th>1</th>\n",
       "      <td>7331462048699649323</td>\n",
       "      <td>1111.0</td>\n",
       "      <td>1.0</td>\n",
       "      <td>2.0</td>\n",
       "      <td>6589.0</td>\n",
       "    </tr>\n",
       "    <tr>\n",
       "      <th>2</th>\n",
       "      <td>7318253025649315104</td>\n",
       "      <td>2208.0</td>\n",
       "      <td>3.0</td>\n",
       "      <td>8.0</td>\n",
       "      <td>42400.0</td>\n",
       "    </tr>\n",
       "    <tr>\n",
       "      <th>3</th>\n",
       "      <td>7331462048699649323</td>\n",
       "      <td>1111.0</td>\n",
       "      <td>1.0</td>\n",
       "      <td>2.0</td>\n",
       "      <td>6589.0</td>\n",
       "    </tr>\n",
       "    <tr>\n",
       "      <th>4</th>\n",
       "      <td>7318253025649315104</td>\n",
       "      <td>2208.0</td>\n",
       "      <td>3.0</td>\n",
       "      <td>8.0</td>\n",
       "      <td>42400.0</td>\n",
       "    </tr>\n",
       "  </tbody>\n",
       "</table>\n",
       "</div>"
      ],
      "text/plain": [
       "              video_id  video_diggcount  video_sharecount  video_commentcount  \\\n",
       "0  7315561816673750318        3600000.0           40100.0             11000.0   \n",
       "1  7331462048699649323           1111.0               1.0                 2.0   \n",
       "2  7318253025649315104           2208.0               3.0                 8.0   \n",
       "3  7331462048699649323           1111.0               1.0                 2.0   \n",
       "4  7318253025649315104           2208.0               3.0                 8.0   \n",
       "\n",
       "   video_playcount  \n",
       "0       19000000.0  \n",
       "1           6589.0  \n",
       "2          42400.0  \n",
       "3           6589.0  \n",
       "4          42400.0  "
      ]
     },
     "execution_count": 57,
     "metadata": {},
     "output_type": "execute_result"
    }
   ],
   "source": [
    "# drop all duplicate videos\n",
    "df.drop_duplicates('video_id')\n",
    "\n",
    "# only keep relevant columns\n",
    "df = df[['video_id', 'video_diggcount', 'video_sharecount', 'video_commentcount', 'video_playcount']]\n",
    "\n",
    "\n",
    "# this is number of videos before the headers are dropped\n",
    "print(len(df))\n",
    "\n",
    "df.head()"
   ]
  },
  {
   "cell_type": "code",
   "execution_count": 76,
   "metadata": {},
   "outputs": [
    {
     "name": "stdout",
     "output_type": "stream",
     "text": [
      "Summary Statistics:\n",
      "       video_diggcount  video_sharecount  video_commentcount  video_playcount\n",
      "count     1.570700e+04      15707.000000        15707.000000     1.570700e+04\n",
      "mean      3.648695e+05       5651.643089         2510.861590     6.526265e+06\n",
      "std       9.037289e+05      25193.206294        10153.127718     2.412824e+07\n",
      "min       0.000000e+00          0.000000            0.000000     0.000000e+00\n",
      "25%       9.776500e+03         62.000000           72.000000     3.131000e+05\n",
      "50%       8.000000e+04        494.000000          496.000000     1.400000e+06\n",
      "75%       3.388000e+05       2928.500000         1904.500000     4.900000e+06\n",
      "max       2.500000e+07     847100.000000       597900.000000     7.602000e+08\n",
      "Video share count (85th percentile):  6592.200000000001\n",
      "Video play count (85th percentile):  9300000.0\n",
      "Video like count (85th percentile):  622220.0000000001\n",
      "Video share count (95th percentile):  23000.0\n",
      "Video play count (95th percentile):  25200000.0\n",
      "Video share count (90th percentile):  11100.0\n",
      "Video play count (90th percentile):  14100000.0\n",
      "Video like count (90th percentile):  909940.0\n"
     ]
    }
   ],
   "source": [
    "# drop rows where header didn't merge properly\n",
    "df = df.drop(7663)\n",
    "df = df.drop(15731)\n",
    "df = df.reset_index(drop=True)\n",
    "\n",
    "cols_to_convert = ['video_sharecount', 'video_commentcount', 'video_diggcount', 'video_playcount']\n",
    "df[cols_to_convert] = df[cols_to_convert].apply(pd.to_numeric)\n",
    "\n",
    "\n",
    "# summary statistics\n",
    "summary_stats = df.describe()\n",
    "print(\"Summary Statistics:\")\n",
    "print(summary_stats)\n",
    "\n",
    "\n",
    "print('Video share count (85th percentile): ', df['video_sharecount'].quantile(.85))\n",
    "print('Video play count (85th percentile): ', df['video_playcount'].quantile(.85))\n",
    "print('Video like count (85th percentile): ', df['video_diggcount'].quantile(.85))\n",
    "\n",
    "print('Video share count (95th percentile): ', df['video_sharecount'].quantile(.95))\n",
    "print('Video play count (95th percentile): ', df['video_playcount'].quantile(.95))\n",
    "\n",
    "print('Video share count (90th percentile): ', df['video_sharecount'].quantile(.9))\n",
    "print('Video play count (90th percentile): ', df['video_playcount'].quantile(.9))\n",
    "print('Video like count (90th percentile): ', df['video_diggcount'].quantile(.9))\n"
   ]
  },
  {
   "cell_type": "code",
   "execution_count": 78,
   "metadata": {},
   "outputs": [
    {
     "name": "stdout",
     "output_type": "stream",
     "text": [
      "Number of filtered videos: 1185\n"
     ]
    }
   ],
   "source": [
    "\n",
    "\n",
    "#df_filtered = df[df['video_sharecount'] > 6595.5] \n",
    "df_filtered = df[df['video_playcount'] > 9300000.0] \n",
    "df_filtered = df_filtered[df_filtered['video_diggcount'] > 622220.0000000001] \n",
    "\n",
    "print(\"Number of filtered videos:\", len(df_filtered))\n",
    "\n",
    "df_filtered.to_csv('85th_percentile_likes_views.csv')"
   ]
  },
  {
   "cell_type": "code",
   "execution_count": 71,
   "metadata": {},
   "outputs": [
    {
     "data": {
      "image/png": "[encoded data removed]",
      "text/plain": [
       "<Figure size 640x480 with 4 Axes>"
      ]
     },
     "metadata": {},
     "output_type": "display_data"
    }
   ],
   "source": [
    "# plot histograms\n",
    "\n",
    "import matplotlib.pyplot as plt\n",
    "\n",
    "plt.subplot(2, 2, 1)\n",
    "plt.hist(df_filtered['video_diggcount'].dropna(), bins=20, color='skyblue', edgecolor='black')\n",
    "plt.title('Distribution of Like Counts')\n",
    "plt.xlabel('Like Count')\n",
    "plt.ylabel('Frequency')\n",
    "\n",
    "plt.subplot(2, 2, 2)\n",
    "plt.hist(df_filtered['video_sharecount'].dropna(), bins=20, color='salmon', edgecolor='black')\n",
    "plt.title('Distribution of Share Counts')\n",
    "plt.xlabel('Share Count')\n",
    "plt.ylabel('Frequency')\n",
    "\n",
    "plt.subplot(2, 2, 3)\n",
    "plt.hist(df_filtered['video_commentcount'].dropna(), bins=20, color='lightgreen', edgecolor='black')\n",
    "plt.title('Distribution of Comment Counts')\n",
    "plt.xlabel('Comment Count')\n",
    "plt.ylabel('Frequency')\n",
    "\n",
    "plt.subplot(2, 2, 4)\n",
    "plt.hist(df_filtered['video_playcount'].dropna(), bins=20, color='plum', edgecolor='black')\n",
    "plt.title('Distribution of Play Counts')\n",
    "plt.xlabel('Play Count')\n",
    "plt.ylabel('Frequency')\n",
    "\n",
    "plt.tight_layout()\n",
    "plt.show()"
   ]
  },
  {
   "cell_type": "code",
   "execution_count": null,
   "metadata": {},
   "outputs": [],
   "source": []
  }
 ],
 "metadata": {
  "kernelspec": {
   "display_name": "Python 3",
   "language": "python",
   "name": "python3"
  },
  "language_info": {
   "codemirror_mode": {
    "name": "ipython",
    "version": 3
   },
   "file_extension": ".py",
   "mimetype": "text/x-python",
   "name": "python",
   "nbconvert_exporter": "python",
   "pygments_lexer": "ipython3",
   "version": "3.12.0"
  }
 },
 "nbformat": 4,
 "nbformat_minor": 2
}
