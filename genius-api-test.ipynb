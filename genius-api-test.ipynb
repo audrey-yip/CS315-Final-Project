{
 "cells": [
  {
   "cell_type": "markdown",
   "metadata": {},
   "source": [
    "# Code for Testing Genius API\n",
    "\n",
    "Author: Audrey Yip"
   ]
  },
  {
   "cell_type": "code",
   "execution_count": 1,
   "metadata": {},
   "outputs": [],
   "source": [
    "# genius api token\n",
    "client_access_token = 'sV75C1G2Grzipz8q_c7WrtmGir0RAUo2sQpAIgDAdd8-0F2XFCB3shz3yxs4UMem'"
   ]
  },
  {
   "cell_type": "code",
   "execution_count": 4,
   "metadata": {},
   "outputs": [
    {
     "name": "stdout",
     "output_type": "stream",
     "text": [
      "Collecting git+https://github.com/johnwmillr/LyricsGenius.git\n",
      "  Cloning https://github.com/johnwmillr/LyricsGenius.git to /private/var/folders/3x/2ycn49s93nq5cl2h1z2tvrh00000gn/T/pip-req-build-x4d007am\n",
      "  Running command git clone --filter=blob:none --quiet https://github.com/johnwmillr/LyricsGenius.git /private/var/folders/3x/2ycn49s93nq5cl2h1z2tvrh00000gn/T/pip-req-build-x4d007am\n",
      "  Resolved https://github.com/johnwmillr/LyricsGenius.git to commit aac9dad201bc012bf83283c7de779b7d95498756\n",
      "  Installing build dependencies ... \u001b[?25ldone\n",
      "\u001b[?25h  Getting requirements to build wheel ... \u001b[?25ldone\n",
      "\u001b[?25h  Installing backend dependencies ... \u001b[?25ldone\n",
      "\u001b[?25h  Preparing metadata (pyproject.toml) ... \u001b[?25ldone\n",
      "\u001b[?25hCollecting beautifulsoup4>=4.6.0 (from lyricsgenius==3.0.1)\n",
      "  Using cached beautifulsoup4-4.12.3-py3-none-any.whl.metadata (3.8 kB)\n",
      "Requirement already satisfied: requests>=2.20.0 in /Library/Frameworks/Python.framework/Versions/3.12/lib/python3.12/site-packages (from lyricsgenius==3.0.1) (2.31.0)\n",
      "Collecting soupsieve>1.2 (from beautifulsoup4>=4.6.0->lyricsgenius==3.0.1)\n",
      "  Using cached soupsieve-2.5-py3-none-any.whl.metadata (4.7 kB)\n",
      "Requirement already satisfied: charset-normalizer<4,>=2 in /Library/Frameworks/Python.framework/Versions/3.12/lib/python3.12/site-packages (from requests>=2.20.0->lyricsgenius==3.0.1) (3.3.2)\n",
      "Requirement already satisfied: idna<4,>=2.5 in /Library/Frameworks/Python.framework/Versions/3.12/lib/python3.12/site-packages (from requests>=2.20.0->lyricsgenius==3.0.1) (3.6)\n",
      "Requirement already satisfied: urllib3<3,>=1.21.1 in /Library/Frameworks/Python.framework/Versions/3.12/lib/python3.12/site-packages (from requests>=2.20.0->lyricsgenius==3.0.1) (2.2.1)\n",
      "Requirement already satisfied: certifi>=2017.4.17 in /Library/Frameworks/Python.framework/Versions/3.12/lib/python3.12/site-packages (from requests>=2.20.0->lyricsgenius==3.0.1) (2024.2.2)\n",
      "Using cached beautifulsoup4-4.12.3-py3-none-any.whl (147 kB)\n",
      "Using cached soupsieve-2.5-py3-none-any.whl (36 kB)\n",
      "Building wheels for collected packages: lyricsgenius\n",
      "  Building wheel for lyricsgenius (pyproject.toml) ... \u001b[?25ldone\n",
      "\u001b[?25h  Created wheel for lyricsgenius: filename=lyricsgenius-3.0.1-py3-none-any.whl size=44692 sha256=e6dd0b6e2aba92f2b491f09c9e5f59196f8f1f99a7a711ec93159be730c880fe\n",
      "  Stored in directory: /private/var/folders/3x/2ycn49s93nq5cl2h1z2tvrh00000gn/T/pip-ephem-wheel-cache-cahfp879/wheels/81/86/33/3007753aa8a9bceaf50d17260206de790d5571ed44848c2d97\n",
      "Successfully built lyricsgenius\n",
      "Installing collected packages: soupsieve, beautifulsoup4, lyricsgenius\n",
      "Successfully installed beautifulsoup4-4.12.3 lyricsgenius-3.0.1 soupsieve-2.5\n"
     ]
    }
   ],
   "source": [
    "# install LyricsGenius to get song lyrics\n",
    "!pip3 install git+https://github.com/johnwmillr/LyricsGenius.git\n"
   ]
  },
  {
   "cell_type": "code",
   "execution_count": 6,
   "metadata": {},
   "outputs": [
    {
     "ename": "ModuleNotFoundError",
     "evalue": "No module named 'lyricsgenius'",
     "output_type": "error",
     "traceback": [
      "\u001b[0;31m---------------------------------------------------------------------------\u001b[0m",
      "\u001b[0;31mModuleNotFoundError\u001b[0m                       Traceback (most recent call last)",
      "Cell \u001b[0;32mIn[6], line 1\u001b[0m\n\u001b[0;32m----> 1\u001b[0m \u001b[38;5;28;01mimport\u001b[39;00m \u001b[38;5;21;01mlyricsgenius\u001b[39;00m\n",
      "\u001b[0;31mModuleNotFoundError\u001b[0m: No module named 'lyricsgenius'"
     ]
    }
   ],
   "source": [
    "import lyricsgenius"
   ]
  },
  {
   "cell_type": "code",
   "execution_count": 4,
   "metadata": {},
   "outputs": [
    {
     "ename": "NameError",
     "evalue": "name 'LyricsGenius' is not defined",
     "output_type": "error",
     "traceback": [
      "\u001b[0;31m---------------------------------------------------------------------------\u001b[0m",
      "\u001b[0;31mNameError\u001b[0m                                 Traceback (most recent call last)",
      "Cell \u001b[0;32mIn[4], line 1\u001b[0m\n\u001b[0;32m----> 1\u001b[0m artist \u001b[38;5;241m=\u001b[39m \u001b[43mLyricsGenius\u001b[49m\u001b[38;5;241m.\u001b[39msearch_artist(\u001b[38;5;124m\"\u001b[39m\u001b[38;5;124mMissy Elliott\u001b[39m\u001b[38;5;124m\"\u001b[39m, max_songs\u001b[38;5;241m=\u001b[39m\u001b[38;5;241m6\u001b[39m)\n",
      "\u001b[0;31mNameError\u001b[0m: name 'LyricsGenius' is not defined"
     ]
    }
   ],
   "source": [
    "artist = LyricsGenius.search_artist(\"Missy Elliott\", max_songs=6)"
   ]
  },
  {
   "cell_type": "code",
   "execution_count": null,
   "metadata": {},
   "outputs": [],
   "source": []
  }
 ],
 "metadata": {
  "kernelspec": {
   "display_name": "Python 3",
   "language": "python",
   "name": "python3"
  },
  "language_info": {
   "codemirror_mode": {
    "name": "ipython",
    "version": 3
   },
   "file_extension": ".py",
   "mimetype": "text/x-python",
   "name": "python",
   "nbconvert_exporter": "python",
   "pygments_lexer": "ipython3",
   "version": "3.11.8"
  }
 },
 "nbformat": 4,
 "nbformat_minor": 2
}
