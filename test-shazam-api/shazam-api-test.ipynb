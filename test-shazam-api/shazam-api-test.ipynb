{
 "cells": [
  {
   "cell_type": "markdown",
   "metadata": {},
   "source": [
    "# Code for Testing how to recognize songs\n",
    "\n",
    "Notes: moviepy requires installation of ffmpeg, you can download from [this link](https://ffmpeg.org/download.html). You will also need ffprobe to run ShazamAPI, which can be downloaded from the same link. Move the executable to your usr/local/bin file\n",
    "\n",
    "* We use moviepy to convert the file to mp3\n",
    "* We pass the mp3 to ShazamAPI to get the relevant information\n",
    "\n",
    "Author: Audrey Yip"
   ]
  },
  {
   "cell_type": "code",
   "execution_count": 1,
   "metadata": {},
   "outputs": [],
   "source": [
    "# !pip3 install moviepy\n",
    "# !pip3 install ShazamAPI"
   ]
  },
  {
   "cell_type": "code",
   "execution_count": 1,
   "metadata": {},
   "outputs": [
    {
     "name": "stdout",
     "output_type": "stream",
     "text": [
      "MoviePy - Writing audio in test_sound_.mp3\n"
     ]
    },
    {
     "name": "stderr",
     "output_type": "stream",
     "text": [
      "                                                                   \r"
     ]
    },
    {
     "name": "stdout",
     "output_type": "stream",
     "text": [
      "MoviePy - Done.\n"
     ]
    }
   ],
   "source": [
    "# use moviepy to convert mp4 to mp3\n",
    "\n",
    "import os\n",
    "from moviepy.editor import *\n",
    "\n",
    "# use this later for when we have more videos\n",
    "# cwd = os.getcwd()\n",
    "# video_filename = \"test_video.mp4\"\n",
    "# video_path = os.path.join(cwd, video_filename)\n",
    "\n",
    "video = VideoFileClip(\"test_video.mp4\")\n",
    "video.audio.write_audiofile(\"test_sound_.mp3\")"
   ]
  },
  {
   "cell_type": "code",
   "execution_count": 3,
   "metadata": {},
   "outputs": [
    {
     "name": "stdout",
     "output_type": "stream",
     "text": [
      "(8.0, {'matches': [{'id': '213384455', 'offset': -4.565788574, 'timeskew': 0.0004633665, 'frequencyskew': -0.000120818615}, {'id': '687594120', 'offset': -4.081568847, 'timeskew': 0.00014019012, 'frequencyskew': 0.0}, {'id': '472505492', 'offset': -3.623958496, 'timeskew': 0.0013375282, 'frequencyskew': -0.00016111135}], 'location': {'accuracy': 0.01}, 'timestamp': 1712629233989, 'timezone': 'Europe/Moscow', 'track': {'layout': '5', 'type': 'MUSIC', 'key': '245559138', 'title': 'Whistle (Edit)', 'subtitle': 'Joel Merry', 'images': {'background': 'https://is1-ssl.mzstatic.com/image/thumb/Music116/v4/1d/95/d8/1d95d899-ca27-20e9-dd25-edb0a2127b21/5037300064451.jpg/400x400cc.jpg', 'coverart': 'https://is1-ssl.mzstatic.com/image/thumb/Music116/v4/1d/95/d8/1d95d899-ca27-20e9-dd25-edb0a2127b21/5037300064451.jpg/400x400cc.jpg', 'coverarthq': 'https://is1-ssl.mzstatic.com/image/thumb/Music116/v4/1d/95/d8/1d95d899-ca27-20e9-dd25-edb0a2127b21/5037300064451.jpg/400x400cc.jpg', 'joecolor': 'b:e9f1f3p:0e0c0fs:28201dt:3a3a3dq:4f4a48'}, 'share': {'subject': 'Whistle (Edit) - Joel Merry', 'text': 'Whistle (Edit) от Joel Merry', 'href': 'https://www.shazam.com/track/245559138/whistle-edit', 'image': 'https://is1-ssl.mzstatic.com/image/thumb/Music116/v4/1d/95/d8/1d95d899-ca27-20e9-dd25-edb0a2127b21/5037300064451.jpg/400x400cc.jpg', 'twitter': 'Мое открытие на @Shazam: Joel Merry – Whistle (Edit).', 'html': 'https://www.shazam.com/snippets/email-share/245559138?lang=ru&country=RU', 'snapchat': 'https://www.shazam.com/partner/sc/track/245559138'}, 'hub': {'type': 'APPLEMUSIC', 'image': 'https://images.shazam.com/static/icons/hub/ios/v5/applemusic_{scalefactor}.png', 'actions': [{'name': 'apple', 'type': 'applemusicplay', 'id': '1729361248'}, {'name': 'apple', 'type': 'uri', 'uri': 'https://audio-ssl.itunes.apple.com/itunes-assets/AudioPreview126/v4/af/98/a6/af98a6d6-9b48-bdd7-4646-793974e66e23/mzaf_15997244971500515573.plus.aac.ep.m4a'}], 'options': [{'caption': 'ОТКРЫТЬ В', 'actions': [{'name': 'hub:applemusic:deeplink', 'type': 'applemusicopen', 'uri': 'https://music.apple.com/ru/album/whistle-edit/1729361247?i=1729361248&mttnagencyid=s2n&mttnsiteid=125115&mttn3pid=Apple-Shazam&mttnsub1=Shazam_ios&mttnsub2=5348615A-616D-3235-3830-44754D6D5973&itscg=30201&app=music&itsct=Shazam_ios'}, {'name': 'hub:applemusic:deeplink', 'type': 'uri', 'uri': 'https://music.apple.com/ru/album/whistle-edit/1729361247?i=1729361248&mttnagencyid=s2n&mttnsiteid=125115&mttn3pid=Apple-Shazam&mttnsub1=Shazam_ios&mttnsub2=5348615A-616D-3235-3830-44754D6D5973&itscg=30201&app=music&itsct=Shazam_ios'}], 'beacondata': {'type': 'open', 'providername': 'applemusic'}, 'image': 'https://images.shazam.com/static/icons/hub/ios/v5/overflow-open-option_{scalefactor}.png', 'type': 'open', 'listcaption': 'Открыть в Apple Music', 'overflowimage': 'https://images.shazam.com/static/icons/hub/ios/v5/applemusic-overflow_{scalefactor}.png', 'colouroverflowimage': False, 'providername': 'applemusic'}, {'caption': 'КУПИТЬ', 'actions': [{'type': 'uri', 'uri': 'https://itunes.apple.com/ru/album/whistle-edit/1729361247?i=1729361248&mttnagencyid=s2n&mttnsiteid=125115&mttn3pid=Apple-Shazam&mttnsub1=Shazam_ios&mttnsub2=5348615A-616D-3235-3830-44754D6D5973&itscg=30201&app=itunes&itsct=Shazam_ios'}], 'beacondata': {'type': 'buy', 'providername': 'itunes'}, 'image': 'https://images.shazam.com/static/icons/hub/ios/v5/itunes-overflow-buy_{scalefactor}.png', 'type': 'buy', 'listcaption': 'Купить на iTunes', 'overflowimage': 'https://images.shazam.com/static/icons/hub/ios/v5/itunes-overflow-buy_{scalefactor}.png', 'colouroverflowimage': False, 'providername': 'itunes'}], 'providers': [{'caption': 'Открыть в Spotify', 'images': {'overflow': 'https://images.shazam.com/static/icons/hub/ios/v5/spotify-overflow_{scalefactor}.png', 'default': 'https://images.shazam.com/static/icons/hub/ios/v5/spotify_{scalefactor}.png'}, 'actions': [{'name': 'hub:spotify:searchdeeplink', 'type': 'uri', 'uri': 'spotify:search:Whistle%20%28Edit%29%20Joel%20Merry'}], 'type': 'SPOTIFY'}, {'caption': 'Открыть в Deezer', 'images': {'overflow': 'https://images.shazam.com/static/icons/hub/ios/v5/deezer-overflow_{scalefactor}.png', 'default': 'https://images.shazam.com/static/icons/hub/ios/v5/deezer_{scalefactor}.png'}, 'actions': [{'name': 'hub:deezer:searchdeeplink', 'type': 'uri', 'uri': 'deezer-query://www.deezer.com/play?query=%7Btrack%3A%27Whistle+%28Edit%29%27%20artist%3A%27Joel+Merry%27%7D'}], 'type': 'DEEZER'}], 'explicit': False, 'displayname': 'APPLE MUSIC'}, 'sections': [{'type': 'SONG', 'metapages': [{'image': 'https://is1-ssl.mzstatic.com/image/thumb/Music116/v4/1d/95/d8/1d95d899-ca27-20e9-dd25-edb0a2127b21/5037300064451.jpg/400x400cc.jpg', 'caption': 'Whistle (Edit)'}], 'tabname': 'Песня', 'metadata': [{'title': 'Альбом', 'text': 'Whistle (Edit) - Single'}, {'title': 'Лейбл', 'text': 'Double J Music'}, {'title': 'Выпущено', 'text': '2024'}]}, {'type': 'RELATED', 'url': 'https://cdn.shazam.com/shazam/v3/ru/RU/iphone/-/tracks/track-similarities-id-245559138?startFrom=0&pageSize=20&connected=', 'tabname': 'Похожие'}], 'url': 'https://www.shazam.com/track/245559138/whistle-edit', 'artists': [{'id': '42', 'adamid': '1544971689'}], 'isrc': 'TCABF1270739', 'genres': {'primary': 'Поп'}, 'urlparams': {'{tracktitle}': 'Whistle+%28Edit%29', '{trackartist}': 'Joel+Merry'}, 'myshazam': {'apple': {'actions': [{'name': 'myshazam:apple', 'type': 'uri', 'uri': 'https://music.apple.com/ru/album/whistle-edit/1729361247?i=1729361248&mttnagencyid=s2n&mttnsiteid=125115&mttn3pid=Apple-Shazam&mttnsub1=Shazam_ios&mttnsub2=5348615A-616D-3235-3830-44754D6D5973&itscg=30201&app=music&itsct=Shazam_ios'}]}}, 'highlightsurls': {}, 'relatedtracksurl': 'https://cdn.shazam.com/shazam/v3/ru/RU/iphone/-/tracks/track-similarities-id-245559138?startFrom=0&pageSize=20&connected=', 'albumadamid': '1729361247'}, 'tagid': '2DFA61A0-04FF-4F44-95EF-DBDF10F7B81C'})\n"
     ]
    }
   ],
   "source": [
    "# testing ShazamAPI\n",
    "\n",
    "from ShazamAPI import Shazam\n",
    "\n",
    "mp3_file_content_to_recognize = open('test_sound_.mp3', 'rb').read()\n",
    "\n",
    "shazam = Shazam(\n",
    "    mp3_file_content_to_recognize,\n",
    "    #lang='en',\n",
    "    #time_zone='Europe/Paris'\n",
    ")\n",
    "recognize_generator = shazam.recognizeSong()\n",
    "\n",
    "# this gets all recognized songs\n",
    "# while True:\n",
    "#\tprint(next(recognize_generator))\n",
    "\n",
    "# get the first recognized song\n",
    "first_song = next(recognize_generator)\n",
    "\n",
    "print(first_song)"
   ]
  },
  {
   "cell_type": "code",
   "execution_count": 4,
   "metadata": {},
   "outputs": [
    {
     "name": "stdout",
     "output_type": "stream",
     "text": [
      "Song name:  Whistle (Edit)\n",
      "Artist name:  Joel Merry\n",
      "Song subject:  Whistle (Edit) - Joel Merry\n",
      "Link to song preview:  https://audio-ssl.itunes.apple.com/itunes-assets/AudioPreview126/v4/af/98/a6/af98a6d6-9b48-bdd7-4646-793974e66e23/mzaf_15997244971500515573.plus.aac.ep.m4a\n"
     ]
    }
   ],
   "source": [
    "# get title\n",
    "song = first_song[1][\"track\"][\"title\"]\n",
    "\n",
    "# get artist (?)\n",
    "artist = first_song[1][\"track\"][\"subtitle\"]\n",
    "\n",
    "# subject appears to give both track name and artist\n",
    "track_subject = first_song[1][\"track\"][\"share\"][\"subject\"]\n",
    "\n",
    "# downloads preview of the song\n",
    "song_preview = first_song[1][\"track\"][\"hub\"][\"actions\"][1][\"uri\"]\n",
    "\n",
    "print(\"Song name: \", song)\n",
    "print(\"Artist name: \", artist)\n",
    "print(\"Song subject: \", track_subject)\n",
    "print(\"Link to song preview: \", song_preview)\n",
    "\n"
   ]
  },
  {
   "cell_type": "markdown",
   "metadata": {},
   "source": [
    "This will require further testing to see which snippets of data we will need."
   ]
  },
  {
   "cell_type": "code",
   "execution_count": null,
   "metadata": {},
   "outputs": [],
   "source": []
  }
 ],
 "metadata": {
  "kernelspec": {
   "display_name": "Python 3",
   "language": "python",
   "name": "python3"
  },
  "language_info": {
   "codemirror_mode": {
    "name": "ipython",
    "version": 3
   },
   "file_extension": ".py",
   "mimetype": "text/x-python",
   "name": "python",
   "nbconvert_exporter": "python",
   "pygments_lexer": "ipython3",
   "version": "3.12.0"
  }
 },
 "nbformat": 4,
 "nbformat_minor": 2
}
