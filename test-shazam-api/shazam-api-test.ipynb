{
 "cells": [
  {
   "cell_type": "markdown",
   "metadata": {},
   "source": [
    "# Code for Testing how to recognize songs\n",
    "\n",
    "Notes: moviepy requires installation of ffmpeg, you can download from [this link](https://ffmpeg.org/download.html). You will also need ffprobe to run ShazamAPI, which can be downloaded from the same link. Move the executable to your usr/local/bin file\n",
    "\n",
    "* We use moviepy to convert the file to mp3\n",
    "* We pass the mp3 to ShazamAPI to get the relevant information\n",
    "\n",
    "Author: Audrey Yip and Jyontika Kapoor"
   ]
  },
  {
   "cell_type": "code",
   "execution_count": 1,
   "metadata": {},
   "outputs": [],
   "source": [
    "# !pip3 install moviepy\n",
    "# !pip3 install ShazamAPI"
   ]
  },
  {
   "cell_type": "code",
   "execution_count": 34,
   "metadata": {},
   "outputs": [],
   "source": [
    "import os\n",
    "import json\n",
    "from moviepy.editor import *\n",
    "from ShazamAPI import Shazam\n",
    "import pandas as pd\n",
    "cwd = os.getcwd()"
   ]
  },
  {
   "cell_type": "markdown",
   "metadata": {},
   "source": [
    "#### First, we need to convert the .mp4 files to .mp3\n",
    "##### This is so it is compatible with the Shazam API "
   ]
  },
  {
   "cell_type": "code",
   "execution_count": 3,
   "metadata": {},
   "outputs": [],
   "source": [
    "folder_path = \"/Users/jyontika/Documents/GitHub/CS315-Final-Project/data-collection/videos\"\n",
    "\n",
    "input_path = os.path.join(folder_path, \"videos_mp4\")\n",
    "\n",
    "# create a new folder for .mp3 files\n",
    "output_folder = os.path.join(folder_path, \"videos_mp3\")\n",
    "os.makedirs(output_folder, exist_ok=True)\n",
    "\n",
    "#initalize counter vars\n",
    "num_original_files = 0\n",
    "num_converted_files = 0\n",
    "missing_files = []"
   ]
  },
  {
   "cell_type": "code",
   "execution_count": 7,
   "metadata": {},
   "outputs": [],
   "source": [
    "# # no need to run this again - we have all the .mp3 now\n",
    "\n",
    "# #iterate through each .mp4\n",
    "# for filename in os.listdir(input_path):\n",
    "#     if filename.endswith(\".mp4\"):\n",
    "#         num_original_files += 1\n",
    "        \n",
    "#         video_path = os.path.join(input_path, filename)\n",
    "#         output_path = os.path.join(output_folder, filename.replace(\".mp4\", \".mp3\"))\n",
    "        \n",
    "#         # load the video\n",
    "#         video = VideoFileClip(video_path)\n",
    "        \n",
    "#         # convert video to audio and save as .mp3\n",
    "#         video.audio.write_audiofile(output_path)\n",
    "        \n",
    "#         num_converted_files += 1\n",
    "\n",
    "# print(\"Conversion complete!\")"
   ]
  },
  {
   "cell_type": "code",
   "execution_count": 6,
   "metadata": {},
   "outputs": [],
   "source": [
    "# #Double check the numbers of files are the same\n",
    "\n",
    "# num_files_original = len([name for name in os.listdir(folder_path) if os.path.isfile(os.path.join(folder_path, name))])\n",
    "\n",
    "# # Count the number of files in the new folder\n",
    "# num_files_converted = len([name for name in os.listdir(output_folder) if os.path.isfile(os.path.join(output_folder, name))])\n"
   ]
  },
  {
   "cell_type": "markdown",
   "metadata": {},
   "source": [
    "### Now we can use Shazam API on these .mp3 files"
   ]
  },
  {
   "cell_type": "code",
   "execution_count": 35,
   "metadata": {},
   "outputs": [],
   "source": [
    "# Function to extract song information using Shazam API\n",
    "\n",
    "def extract_song_info(mp3_file_content):\n",
    "    try:\n",
    "        shazam = Shazam(mp3_file_content)\n",
    "        recognize_generator = shazam.recognizeSong()\n",
    "        song_info = next(recognize_generator)\n",
    "        return song_info\n",
    "    except json.JSONDecodeError:\n",
    "        return None"
   ]
  },
  {
   "cell_type": "code",
   "execution_count": 17,
   "metadata": {},
   "outputs": [],
   "source": [
    "## testing this function out\n",
    "#want to compare structure of data of when there is a Shazam API match vs no match\n",
    "\n",
    "mp3_test = open('/Users/jyontika/Documents/GitHub/CS315-Final-Project/data-collection/videos/videos_mp3/share_video_6958280269531057413_.mp3', 'rb').read()\n",
    "\n",
    "no_match = extract_song_info(mp3_test)\n",
    "#no_match\n",
    "\n",
    "mp3_test2 = open('test_sound_.mp3', 'rb').read()\n",
    "match_found = extract_song_info(mp3_test2)\n",
    "#match_found\n"
   ]
  },
  {
   "cell_type": "code",
   "execution_count": 33,
   "metadata": {},
   "outputs": [
    {
     "ename": "JSONDecodeError",
     "evalue": "Expecting value: line 1 column 1 (char 0)",
     "output_type": "error",
     "traceback": [
      "\u001b[0;31m---------------------------------------------------------------------------\u001b[0m",
      "\u001b[0;31mJSONDecodeError\u001b[0m                           Traceback (most recent call last)",
      "File \u001b[0;32m/Library/Frameworks/Python.framework/Versions/3.12/lib/python3.12/site-packages/requests/models.py:971\u001b[0m, in \u001b[0;36mResponse.json\u001b[0;34m(self, **kwargs)\u001b[0m\n\u001b[1;32m    970\u001b[0m \u001b[38;5;28;01mtry\u001b[39;00m:\n\u001b[0;32m--> 971\u001b[0m     \u001b[38;5;28;01mreturn\u001b[39;00m \u001b[43mcomplexjson\u001b[49m\u001b[38;5;241;43m.\u001b[39;49m\u001b[43mloads\u001b[49m\u001b[43m(\u001b[49m\u001b[38;5;28;43mself\u001b[39;49m\u001b[38;5;241;43m.\u001b[39;49m\u001b[43mtext\u001b[49m\u001b[43m,\u001b[49m\u001b[43m \u001b[49m\u001b[38;5;241;43m*\u001b[39;49m\u001b[38;5;241;43m*\u001b[39;49m\u001b[43mkwargs\u001b[49m\u001b[43m)\u001b[49m\n\u001b[1;32m    972\u001b[0m \u001b[38;5;28;01mexcept\u001b[39;00m JSONDecodeError \u001b[38;5;28;01mas\u001b[39;00m e:\n\u001b[1;32m    973\u001b[0m     \u001b[38;5;66;03m# Catch JSON-related errors and raise as requests.JSONDecodeError\u001b[39;00m\n\u001b[1;32m    974\u001b[0m     \u001b[38;5;66;03m# This aliases json.JSONDecodeError and simplejson.JSONDecodeError\u001b[39;00m\n",
      "File \u001b[0;32m/Library/Frameworks/Python.framework/Versions/3.12/lib/python3.12/json/__init__.py:346\u001b[0m, in \u001b[0;36mloads\u001b[0;34m(s, cls, object_hook, parse_float, parse_int, parse_constant, object_pairs_hook, **kw)\u001b[0m\n\u001b[1;32m    343\u001b[0m \u001b[38;5;28;01mif\u001b[39;00m (\u001b[38;5;28mcls\u001b[39m \u001b[38;5;129;01mis\u001b[39;00m \u001b[38;5;28;01mNone\u001b[39;00m \u001b[38;5;129;01mand\u001b[39;00m object_hook \u001b[38;5;129;01mis\u001b[39;00m \u001b[38;5;28;01mNone\u001b[39;00m \u001b[38;5;129;01mand\u001b[39;00m\n\u001b[1;32m    344\u001b[0m         parse_int \u001b[38;5;129;01mis\u001b[39;00m \u001b[38;5;28;01mNone\u001b[39;00m \u001b[38;5;129;01mand\u001b[39;00m parse_float \u001b[38;5;129;01mis\u001b[39;00m \u001b[38;5;28;01mNone\u001b[39;00m \u001b[38;5;129;01mand\u001b[39;00m\n\u001b[1;32m    345\u001b[0m         parse_constant \u001b[38;5;129;01mis\u001b[39;00m \u001b[38;5;28;01mNone\u001b[39;00m \u001b[38;5;129;01mand\u001b[39;00m object_pairs_hook \u001b[38;5;129;01mis\u001b[39;00m \u001b[38;5;28;01mNone\u001b[39;00m \u001b[38;5;129;01mand\u001b[39;00m \u001b[38;5;129;01mnot\u001b[39;00m kw):\n\u001b[0;32m--> 346\u001b[0m     \u001b[38;5;28;01mreturn\u001b[39;00m \u001b[43m_default_decoder\u001b[49m\u001b[38;5;241;43m.\u001b[39;49m\u001b[43mdecode\u001b[49m\u001b[43m(\u001b[49m\u001b[43ms\u001b[49m\u001b[43m)\u001b[49m\n\u001b[1;32m    347\u001b[0m \u001b[38;5;28;01mif\u001b[39;00m \u001b[38;5;28mcls\u001b[39m \u001b[38;5;129;01mis\u001b[39;00m \u001b[38;5;28;01mNone\u001b[39;00m:\n",
      "File \u001b[0;32m/Library/Frameworks/Python.framework/Versions/3.12/lib/python3.12/json/decoder.py:337\u001b[0m, in \u001b[0;36mJSONDecoder.decode\u001b[0;34m(self, s, _w)\u001b[0m\n\u001b[1;32m    333\u001b[0m \u001b[38;5;250m\u001b[39m\u001b[38;5;124;03m\"\"\"Return the Python representation of ``s`` (a ``str`` instance\u001b[39;00m\n\u001b[1;32m    334\u001b[0m \u001b[38;5;124;03mcontaining a JSON document).\u001b[39;00m\n\u001b[1;32m    335\u001b[0m \n\u001b[1;32m    336\u001b[0m \u001b[38;5;124;03m\"\"\"\u001b[39;00m\n\u001b[0;32m--> 337\u001b[0m obj, end \u001b[38;5;241m=\u001b[39m \u001b[38;5;28;43mself\u001b[39;49m\u001b[38;5;241;43m.\u001b[39;49m\u001b[43mraw_decode\u001b[49m\u001b[43m(\u001b[49m\u001b[43ms\u001b[49m\u001b[43m,\u001b[49m\u001b[43m \u001b[49m\u001b[43midx\u001b[49m\u001b[38;5;241;43m=\u001b[39;49m\u001b[43m_w\u001b[49m\u001b[43m(\u001b[49m\u001b[43ms\u001b[49m\u001b[43m,\u001b[49m\u001b[43m \u001b[49m\u001b[38;5;241;43m0\u001b[39;49m\u001b[43m)\u001b[49m\u001b[38;5;241;43m.\u001b[39;49m\u001b[43mend\u001b[49m\u001b[43m(\u001b[49m\u001b[43m)\u001b[49m\u001b[43m)\u001b[49m\n\u001b[1;32m    338\u001b[0m end \u001b[38;5;241m=\u001b[39m _w(s, end)\u001b[38;5;241m.\u001b[39mend()\n",
      "File \u001b[0;32m/Library/Frameworks/Python.framework/Versions/3.12/lib/python3.12/json/decoder.py:355\u001b[0m, in \u001b[0;36mJSONDecoder.raw_decode\u001b[0;34m(self, s, idx)\u001b[0m\n\u001b[1;32m    354\u001b[0m \u001b[38;5;28;01mexcept\u001b[39;00m \u001b[38;5;167;01mStopIteration\u001b[39;00m \u001b[38;5;28;01mas\u001b[39;00m err:\n\u001b[0;32m--> 355\u001b[0m     \u001b[38;5;28;01mraise\u001b[39;00m JSONDecodeError(\u001b[38;5;124m\"\u001b[39m\u001b[38;5;124mExpecting value\u001b[39m\u001b[38;5;124m\"\u001b[39m, s, err\u001b[38;5;241m.\u001b[39mvalue) \u001b[38;5;28;01mfrom\u001b[39;00m \u001b[38;5;28;01mNone\u001b[39;00m\n\u001b[1;32m    356\u001b[0m \u001b[38;5;28;01mreturn\u001b[39;00m obj, end\n",
      "\u001b[0;31mJSONDecodeError\u001b[0m: Expecting value: line 1 column 1 (char 0)",
      "\nDuring handling of the above exception, another exception occurred:\n",
      "\u001b[0;31mJSONDecodeError\u001b[0m                           Traceback (most recent call last)",
      "Cell \u001b[0;32mIn[33], line 3\u001b[0m\n\u001b[1;32m      1\u001b[0m mp3_test \u001b[38;5;241m=\u001b[39m \u001b[38;5;28mopen\u001b[39m(\u001b[38;5;124m'\u001b[39m\u001b[38;5;124m/Users/jyontika/Documents/GitHub/CS315-Final-Project/data-collection/videos/videos_mp3/share_video_7319250533057875232_.mp3\u001b[39m\u001b[38;5;124m'\u001b[39m, \u001b[38;5;124m'\u001b[39m\u001b[38;5;124mrb\u001b[39m\u001b[38;5;124m'\u001b[39m)\u001b[38;5;241m.\u001b[39mread()\n\u001b[0;32m----> 3\u001b[0m no_match \u001b[38;5;241m=\u001b[39m \u001b[43mextract_song_info\u001b[49m\u001b[43m(\u001b[49m\u001b[43mmp3_test\u001b[49m\u001b[43m)\u001b[49m\n",
      "Cell \u001b[0;32mIn[8], line 6\u001b[0m, in \u001b[0;36mextract_song_info\u001b[0;34m(mp3_file_content)\u001b[0m\n\u001b[1;32m      4\u001b[0m shazam \u001b[38;5;241m=\u001b[39m Shazam(mp3_file_content)\n\u001b[1;32m      5\u001b[0m recognize_generator \u001b[38;5;241m=\u001b[39m shazam\u001b[38;5;241m.\u001b[39mrecognizeSong()\n\u001b[0;32m----> 6\u001b[0m song_info \u001b[38;5;241m=\u001b[39m \u001b[38;5;28;43mnext\u001b[39;49m\u001b[43m(\u001b[49m\u001b[43mrecognize_generator\u001b[49m\u001b[43m)\u001b[49m\n\u001b[1;32m      7\u001b[0m \u001b[38;5;28;01mreturn\u001b[39;00m song_info\n",
      "File \u001b[0;32m/Library/Frameworks/Python.framework/Versions/3.12/lib/python3.12/site-packages/ShazamAPI/api.py:39\u001b[0m, in \u001b[0;36mShazam.recognizeSong\u001b[0;34m(self)\u001b[0m\n\u001b[1;32m     36\u001b[0m \u001b[38;5;28;01mif\u001b[39;00m \u001b[38;5;129;01mnot\u001b[39;00m signature:\n\u001b[1;32m     37\u001b[0m     \u001b[38;5;28;01mbreak\u001b[39;00m\n\u001b[0;32m---> 39\u001b[0m results \u001b[38;5;241m=\u001b[39m \u001b[38;5;28;43mself\u001b[39;49m\u001b[38;5;241;43m.\u001b[39;49m\u001b[43msendRecognizeRequest\u001b[49m\u001b[43m(\u001b[49m\u001b[43msignature\u001b[49m\u001b[43m)\u001b[49m\n\u001b[1;32m     40\u001b[0m currentOffset \u001b[38;5;241m=\u001b[39m signatureGenerator\u001b[38;5;241m.\u001b[39msamples_processed \u001b[38;5;241m/\u001b[39m \u001b[38;5;241m16000\u001b[39m\n\u001b[1;32m     42\u001b[0m \u001b[38;5;28;01myield\u001b[39;00m currentOffset, results\n",
      "File \u001b[0;32m/Library/Frameworks/Python.framework/Versions/3.12/lib/python3.12/site-packages/ShazamAPI/api.py:60\u001b[0m, in \u001b[0;36mShazam.sendRecognizeRequest\u001b[0;34m(self, sig)\u001b[0m\n\u001b[1;32m     45\u001b[0m data \u001b[38;5;241m=\u001b[39m {\n\u001b[1;32m     46\u001b[0m     \u001b[38;5;124m'\u001b[39m\u001b[38;5;124mtimezone\u001b[39m\u001b[38;5;124m'\u001b[39m: TIME_ZONE,\n\u001b[1;32m     47\u001b[0m     \u001b[38;5;124m'\u001b[39m\u001b[38;5;124msignature\u001b[39m\u001b[38;5;124m'\u001b[39m: {\n\u001b[0;32m   (...)\u001b[0m\n\u001b[1;32m     53\u001b[0m     \u001b[38;5;124m'\u001b[39m\u001b[38;5;124mgeolocation\u001b[39m\u001b[38;5;124m'\u001b[39m: {}\n\u001b[1;32m     54\u001b[0m         }\n\u001b[1;32m     55\u001b[0m r \u001b[38;5;241m=\u001b[39m requests\u001b[38;5;241m.\u001b[39mpost(\n\u001b[1;32m     56\u001b[0m     API_URL \u001b[38;5;241m%\u001b[39m (\u001b[38;5;28mstr\u001b[39m(uuid\u001b[38;5;241m.\u001b[39muuid4())\u001b[38;5;241m.\u001b[39mupper(), \u001b[38;5;28mstr\u001b[39m(uuid\u001b[38;5;241m.\u001b[39muuid4())\u001b[38;5;241m.\u001b[39mupper()), \n\u001b[1;32m     57\u001b[0m     headers\u001b[38;5;241m=\u001b[39mHEADERS,\n\u001b[1;32m     58\u001b[0m     json\u001b[38;5;241m=\u001b[39mdata\n\u001b[1;32m     59\u001b[0m )\n\u001b[0;32m---> 60\u001b[0m \u001b[38;5;28;01mreturn\u001b[39;00m \u001b[43mr\u001b[49m\u001b[38;5;241;43m.\u001b[39;49m\u001b[43mjson\u001b[49m\u001b[43m(\u001b[49m\u001b[43m)\u001b[49m\n",
      "File \u001b[0;32m/Library/Frameworks/Python.framework/Versions/3.12/lib/python3.12/site-packages/requests/models.py:975\u001b[0m, in \u001b[0;36mResponse.json\u001b[0;34m(self, **kwargs)\u001b[0m\n\u001b[1;32m    971\u001b[0m     \u001b[38;5;28;01mreturn\u001b[39;00m complexjson\u001b[38;5;241m.\u001b[39mloads(\u001b[38;5;28mself\u001b[39m\u001b[38;5;241m.\u001b[39mtext, \u001b[38;5;241m*\u001b[39m\u001b[38;5;241m*\u001b[39mkwargs)\n\u001b[1;32m    972\u001b[0m \u001b[38;5;28;01mexcept\u001b[39;00m JSONDecodeError \u001b[38;5;28;01mas\u001b[39;00m e:\n\u001b[1;32m    973\u001b[0m     \u001b[38;5;66;03m# Catch JSON-related errors and raise as requests.JSONDecodeError\u001b[39;00m\n\u001b[1;32m    974\u001b[0m     \u001b[38;5;66;03m# This aliases json.JSONDecodeError and simplejson.JSONDecodeError\u001b[39;00m\n\u001b[0;32m--> 975\u001b[0m     \u001b[38;5;28;01mraise\u001b[39;00m RequestsJSONDecodeError(e\u001b[38;5;241m.\u001b[39mmsg, e\u001b[38;5;241m.\u001b[39mdoc, e\u001b[38;5;241m.\u001b[39mpos)\n",
      "\u001b[0;31mJSONDecodeError\u001b[0m: Expecting value: line 1 column 1 (char 0)"
     ]
    }
   ],
   "source": [
    "\n",
    "mp3_test = open('/Users/jyontika/Documents/GitHub/CS315-Final-Project/data-collection/videos/videos_mp3/share_video_7319250533057875232_.mp3', 'rb').read()\n",
    "\n",
    "no_match = extract_song_info(mp3_test)"
   ]
  },
  {
   "cell_type": "code",
   "execution_count": 32,
   "metadata": {},
   "outputs": [
    {
     "name": "stdout",
     "output_type": "stream",
     "text": [
      "Processing file: share_video_7309247847898090794_.mp3\n",
      "Processing file: share_video_7333834299415760171_.mp3\n",
      "Processing file: share_video_7329274198096973099_.mp3\n",
      "Processing file: share_video_7330250329839160607_.mp3\n",
      "Processing file: share_video_7339685917759769899_.mp3\n",
      "Processing file: share_video_7329990500528753953_.mp3\n",
      "Processing file: share_video_7325577933299485958_.mp3\n",
      "Processing file: share_video_7324083003284573482_.mp3\n",
      "Processing file: share_video_7306802296640326945_.mp3\n",
      "Processing file: share_video_7325879255898934561_.mp3\n",
      "Processing file: share_video_7303373812387679490_.mp3\n",
      "Processing file: share_video_7306351228974288159_.mp3\n",
      "Processing file: share_video_7339675920799730987_.mp3\n",
      "Processing file: share_video_7334356059106053409_.mp3\n",
      "Processing file: share_video_7341080338803821866_.mp3\n",
      "Processing file: share_video_7340493999309933867_.mp3\n",
      "Processing file: share_video_7339691972225010975_.mp3\n",
      "Processing file: share_video_7326288796163607841_.mp3\n",
      "Processing file: share_video_7318071341666618656_.mp3\n",
      "Processing file: share_video_7330409084144979243_.mp3\n",
      "Processing file: share_video_7281505949615918382_.mp3\n",
      "Processing file: share_video_7324469503927061803_.mp3\n",
      "Processing file: share_video_7341498941852159264_.mp3\n",
      "Processing file: share_video_7302616034597555502_.mp3\n",
      "Processing file: share_video_7331230833476390175_.mp3\n",
      "Processing file: share_video_7328510158412188974_.mp3\n",
      "Processing file: share_video_7315810775812115720_.mp3\n",
      "Processing file: share_video_7319250533057875232_.mp3\n"
     ]
    },
    {
     "ename": "JSONDecodeError",
     "evalue": "Expecting value: line 1 column 1 (char 0)",
     "output_type": "error",
     "traceback": [
      "\u001b[0;31m---------------------------------------------------------------------------\u001b[0m",
      "\u001b[0;31mJSONDecodeError\u001b[0m                           Traceback (most recent call last)",
      "File \u001b[0;32m/Library/Frameworks/Python.framework/Versions/3.12/lib/python3.12/site-packages/requests/models.py:971\u001b[0m, in \u001b[0;36mResponse.json\u001b[0;34m(self, **kwargs)\u001b[0m\n\u001b[1;32m    970\u001b[0m \u001b[38;5;28;01mtry\u001b[39;00m:\n\u001b[0;32m--> 971\u001b[0m     \u001b[38;5;28;01mreturn\u001b[39;00m \u001b[43mcomplexjson\u001b[49m\u001b[38;5;241;43m.\u001b[39;49m\u001b[43mloads\u001b[49m\u001b[43m(\u001b[49m\u001b[38;5;28;43mself\u001b[39;49m\u001b[38;5;241;43m.\u001b[39;49m\u001b[43mtext\u001b[49m\u001b[43m,\u001b[49m\u001b[43m \u001b[49m\u001b[38;5;241;43m*\u001b[39;49m\u001b[38;5;241;43m*\u001b[39;49m\u001b[43mkwargs\u001b[49m\u001b[43m)\u001b[49m\n\u001b[1;32m    972\u001b[0m \u001b[38;5;28;01mexcept\u001b[39;00m JSONDecodeError \u001b[38;5;28;01mas\u001b[39;00m e:\n\u001b[1;32m    973\u001b[0m     \u001b[38;5;66;03m# Catch JSON-related errors and raise as requests.JSONDecodeError\u001b[39;00m\n\u001b[1;32m    974\u001b[0m     \u001b[38;5;66;03m# This aliases json.JSONDecodeError and simplejson.JSONDecodeError\u001b[39;00m\n",
      "File \u001b[0;32m/Library/Frameworks/Python.framework/Versions/3.12/lib/python3.12/json/__init__.py:346\u001b[0m, in \u001b[0;36mloads\u001b[0;34m(s, cls, object_hook, parse_float, parse_int, parse_constant, object_pairs_hook, **kw)\u001b[0m\n\u001b[1;32m    343\u001b[0m \u001b[38;5;28;01mif\u001b[39;00m (\u001b[38;5;28mcls\u001b[39m \u001b[38;5;129;01mis\u001b[39;00m \u001b[38;5;28;01mNone\u001b[39;00m \u001b[38;5;129;01mand\u001b[39;00m object_hook \u001b[38;5;129;01mis\u001b[39;00m \u001b[38;5;28;01mNone\u001b[39;00m \u001b[38;5;129;01mand\u001b[39;00m\n\u001b[1;32m    344\u001b[0m         parse_int \u001b[38;5;129;01mis\u001b[39;00m \u001b[38;5;28;01mNone\u001b[39;00m \u001b[38;5;129;01mand\u001b[39;00m parse_float \u001b[38;5;129;01mis\u001b[39;00m \u001b[38;5;28;01mNone\u001b[39;00m \u001b[38;5;129;01mand\u001b[39;00m\n\u001b[1;32m    345\u001b[0m         parse_constant \u001b[38;5;129;01mis\u001b[39;00m \u001b[38;5;28;01mNone\u001b[39;00m \u001b[38;5;129;01mand\u001b[39;00m object_pairs_hook \u001b[38;5;129;01mis\u001b[39;00m \u001b[38;5;28;01mNone\u001b[39;00m \u001b[38;5;129;01mand\u001b[39;00m \u001b[38;5;129;01mnot\u001b[39;00m kw):\n\u001b[0;32m--> 346\u001b[0m     \u001b[38;5;28;01mreturn\u001b[39;00m \u001b[43m_default_decoder\u001b[49m\u001b[38;5;241;43m.\u001b[39;49m\u001b[43mdecode\u001b[49m\u001b[43m(\u001b[49m\u001b[43ms\u001b[49m\u001b[43m)\u001b[49m\n\u001b[1;32m    347\u001b[0m \u001b[38;5;28;01mif\u001b[39;00m \u001b[38;5;28mcls\u001b[39m \u001b[38;5;129;01mis\u001b[39;00m \u001b[38;5;28;01mNone\u001b[39;00m:\n",
      "File \u001b[0;32m/Library/Frameworks/Python.framework/Versions/3.12/lib/python3.12/json/decoder.py:337\u001b[0m, in \u001b[0;36mJSONDecoder.decode\u001b[0;34m(self, s, _w)\u001b[0m\n\u001b[1;32m    333\u001b[0m \u001b[38;5;250m\u001b[39m\u001b[38;5;124;03m\"\"\"Return the Python representation of ``s`` (a ``str`` instance\u001b[39;00m\n\u001b[1;32m    334\u001b[0m \u001b[38;5;124;03mcontaining a JSON document).\u001b[39;00m\n\u001b[1;32m    335\u001b[0m \n\u001b[1;32m    336\u001b[0m \u001b[38;5;124;03m\"\"\"\u001b[39;00m\n\u001b[0;32m--> 337\u001b[0m obj, end \u001b[38;5;241m=\u001b[39m \u001b[38;5;28;43mself\u001b[39;49m\u001b[38;5;241;43m.\u001b[39;49m\u001b[43mraw_decode\u001b[49m\u001b[43m(\u001b[49m\u001b[43ms\u001b[49m\u001b[43m,\u001b[49m\u001b[43m \u001b[49m\u001b[43midx\u001b[49m\u001b[38;5;241;43m=\u001b[39;49m\u001b[43m_w\u001b[49m\u001b[43m(\u001b[49m\u001b[43ms\u001b[49m\u001b[43m,\u001b[49m\u001b[43m \u001b[49m\u001b[38;5;241;43m0\u001b[39;49m\u001b[43m)\u001b[49m\u001b[38;5;241;43m.\u001b[39;49m\u001b[43mend\u001b[49m\u001b[43m(\u001b[49m\u001b[43m)\u001b[49m\u001b[43m)\u001b[49m\n\u001b[1;32m    338\u001b[0m end \u001b[38;5;241m=\u001b[39m _w(s, end)\u001b[38;5;241m.\u001b[39mend()\n",
      "File \u001b[0;32m/Library/Frameworks/Python.framework/Versions/3.12/lib/python3.12/json/decoder.py:355\u001b[0m, in \u001b[0;36mJSONDecoder.raw_decode\u001b[0;34m(self, s, idx)\u001b[0m\n\u001b[1;32m    354\u001b[0m \u001b[38;5;28;01mexcept\u001b[39;00m \u001b[38;5;167;01mStopIteration\u001b[39;00m \u001b[38;5;28;01mas\u001b[39;00m err:\n\u001b[0;32m--> 355\u001b[0m     \u001b[38;5;28;01mraise\u001b[39;00m JSONDecodeError(\u001b[38;5;124m\"\u001b[39m\u001b[38;5;124mExpecting value\u001b[39m\u001b[38;5;124m\"\u001b[39m, s, err\u001b[38;5;241m.\u001b[39mvalue) \u001b[38;5;28;01mfrom\u001b[39;00m \u001b[38;5;28;01mNone\u001b[39;00m\n\u001b[1;32m    356\u001b[0m \u001b[38;5;28;01mreturn\u001b[39;00m obj, end\n",
      "\u001b[0;31mJSONDecodeError\u001b[0m: Expecting value: line 1 column 1 (char 0)",
      "\nDuring handling of the above exception, another exception occurred:\n",
      "\u001b[0;31mJSONDecodeError\u001b[0m                           Traceback (most recent call last)",
      "Cell \u001b[0;32mIn[32], line 17\u001b[0m\n\u001b[1;32m     14\u001b[0m \u001b[38;5;28mprint\u001b[39m(\u001b[38;5;124m\"\u001b[39m\u001b[38;5;124mProcessing file:\u001b[39m\u001b[38;5;124m\"\u001b[39m, filename)\n\u001b[1;32m     16\u001b[0m \u001b[38;5;66;03m# use function to extract song data\u001b[39;00m\n\u001b[0;32m---> 17\u001b[0m song_info \u001b[38;5;241m=\u001b[39m \u001b[43mextract_song_info\u001b[49m\u001b[43m(\u001b[49m\u001b[43mmp3_file_content\u001b[49m\u001b[43m)\u001b[49m\n\u001b[1;32m     19\u001b[0m \u001b[38;5;66;03m# check if there are any matches\u001b[39;00m\n\u001b[1;32m     20\u001b[0m \u001b[38;5;28;01mif\u001b[39;00m \u001b[38;5;28mlen\u001b[39m(song_info[\u001b[38;5;241m1\u001b[39m][\u001b[38;5;124m'\u001b[39m\u001b[38;5;124mmatches\u001b[39m\u001b[38;5;124m'\u001b[39m]) \u001b[38;5;241m==\u001b[39m \u001b[38;5;241m0\u001b[39m:\n\u001b[1;32m     21\u001b[0m \n\u001b[1;32m     22\u001b[0m     \u001b[38;5;66;03m# if no matched, add filename to no_song_found DF\u001b[39;00m\n",
      "Cell \u001b[0;32mIn[8], line 6\u001b[0m, in \u001b[0;36mextract_song_info\u001b[0;34m(mp3_file_content)\u001b[0m\n\u001b[1;32m      4\u001b[0m shazam \u001b[38;5;241m=\u001b[39m Shazam(mp3_file_content)\n\u001b[1;32m      5\u001b[0m recognize_generator \u001b[38;5;241m=\u001b[39m shazam\u001b[38;5;241m.\u001b[39mrecognizeSong()\n\u001b[0;32m----> 6\u001b[0m song_info \u001b[38;5;241m=\u001b[39m \u001b[38;5;28;43mnext\u001b[39;49m\u001b[43m(\u001b[49m\u001b[43mrecognize_generator\u001b[49m\u001b[43m)\u001b[49m\n\u001b[1;32m      7\u001b[0m \u001b[38;5;28;01mreturn\u001b[39;00m song_info\n",
      "File \u001b[0;32m/Library/Frameworks/Python.framework/Versions/3.12/lib/python3.12/site-packages/ShazamAPI/api.py:39\u001b[0m, in \u001b[0;36mShazam.recognizeSong\u001b[0;34m(self)\u001b[0m\n\u001b[1;32m     36\u001b[0m \u001b[38;5;28;01mif\u001b[39;00m \u001b[38;5;129;01mnot\u001b[39;00m signature:\n\u001b[1;32m     37\u001b[0m     \u001b[38;5;28;01mbreak\u001b[39;00m\n\u001b[0;32m---> 39\u001b[0m results \u001b[38;5;241m=\u001b[39m \u001b[38;5;28;43mself\u001b[39;49m\u001b[38;5;241;43m.\u001b[39;49m\u001b[43msendRecognizeRequest\u001b[49m\u001b[43m(\u001b[49m\u001b[43msignature\u001b[49m\u001b[43m)\u001b[49m\n\u001b[1;32m     40\u001b[0m currentOffset \u001b[38;5;241m=\u001b[39m signatureGenerator\u001b[38;5;241m.\u001b[39msamples_processed \u001b[38;5;241m/\u001b[39m \u001b[38;5;241m16000\u001b[39m\n\u001b[1;32m     42\u001b[0m \u001b[38;5;28;01myield\u001b[39;00m currentOffset, results\n",
      "File \u001b[0;32m/Library/Frameworks/Python.framework/Versions/3.12/lib/python3.12/site-packages/ShazamAPI/api.py:60\u001b[0m, in \u001b[0;36mShazam.sendRecognizeRequest\u001b[0;34m(self, sig)\u001b[0m\n\u001b[1;32m     45\u001b[0m data \u001b[38;5;241m=\u001b[39m {\n\u001b[1;32m     46\u001b[0m     \u001b[38;5;124m'\u001b[39m\u001b[38;5;124mtimezone\u001b[39m\u001b[38;5;124m'\u001b[39m: TIME_ZONE,\n\u001b[1;32m     47\u001b[0m     \u001b[38;5;124m'\u001b[39m\u001b[38;5;124msignature\u001b[39m\u001b[38;5;124m'\u001b[39m: {\n\u001b[0;32m   (...)\u001b[0m\n\u001b[1;32m     53\u001b[0m     \u001b[38;5;124m'\u001b[39m\u001b[38;5;124mgeolocation\u001b[39m\u001b[38;5;124m'\u001b[39m: {}\n\u001b[1;32m     54\u001b[0m         }\n\u001b[1;32m     55\u001b[0m r \u001b[38;5;241m=\u001b[39m requests\u001b[38;5;241m.\u001b[39mpost(\n\u001b[1;32m     56\u001b[0m     API_URL \u001b[38;5;241m%\u001b[39m (\u001b[38;5;28mstr\u001b[39m(uuid\u001b[38;5;241m.\u001b[39muuid4())\u001b[38;5;241m.\u001b[39mupper(), \u001b[38;5;28mstr\u001b[39m(uuid\u001b[38;5;241m.\u001b[39muuid4())\u001b[38;5;241m.\u001b[39mupper()), \n\u001b[1;32m     57\u001b[0m     headers\u001b[38;5;241m=\u001b[39mHEADERS,\n\u001b[1;32m     58\u001b[0m     json\u001b[38;5;241m=\u001b[39mdata\n\u001b[1;32m     59\u001b[0m )\n\u001b[0;32m---> 60\u001b[0m \u001b[38;5;28;01mreturn\u001b[39;00m \u001b[43mr\u001b[49m\u001b[38;5;241;43m.\u001b[39;49m\u001b[43mjson\u001b[49m\u001b[43m(\u001b[49m\u001b[43m)\u001b[49m\n",
      "File \u001b[0;32m/Library/Frameworks/Python.framework/Versions/3.12/lib/python3.12/site-packages/requests/models.py:975\u001b[0m, in \u001b[0;36mResponse.json\u001b[0;34m(self, **kwargs)\u001b[0m\n\u001b[1;32m    971\u001b[0m     \u001b[38;5;28;01mreturn\u001b[39;00m complexjson\u001b[38;5;241m.\u001b[39mloads(\u001b[38;5;28mself\u001b[39m\u001b[38;5;241m.\u001b[39mtext, \u001b[38;5;241m*\u001b[39m\u001b[38;5;241m*\u001b[39mkwargs)\n\u001b[1;32m    972\u001b[0m \u001b[38;5;28;01mexcept\u001b[39;00m JSONDecodeError \u001b[38;5;28;01mas\u001b[39;00m e:\n\u001b[1;32m    973\u001b[0m     \u001b[38;5;66;03m# Catch JSON-related errors and raise as requests.JSONDecodeError\u001b[39;00m\n\u001b[1;32m    974\u001b[0m     \u001b[38;5;66;03m# This aliases json.JSONDecodeError and simplejson.JSONDecodeError\u001b[39;00m\n\u001b[0;32m--> 975\u001b[0m     \u001b[38;5;28;01mraise\u001b[39;00m RequestsJSONDecodeError(e\u001b[38;5;241m.\u001b[39mmsg, e\u001b[38;5;241m.\u001b[39mdoc, e\u001b[38;5;241m.\u001b[39mpos)\n",
      "\u001b[0;31mJSONDecodeError\u001b[0m: Expecting value: line 1 column 1 (char 0)"
     ]
    }
   ],
   "source": [
    "# empty lists \n",
    "no_song_found = [] \n",
    "songs_info = []\n",
    "\n",
    "mp3_folder = output_folder\n",
    "\n",
    "\n",
    "# loop through each file in the folder\n",
    "for filename in os.listdir(mp3_folder):\n",
    "    if filename.endswith(\".mp3\"):\n",
    "        mp3_path = os.path.join(mp3_folder, filename)\n",
    "        mp3_file_content = open(mp3_path, 'rb').read()\n",
    "        \n",
    "        print(\"Processing file:\", filename)\n",
    "        \n",
    "        \n",
    "        # use function to extract song data\n",
    "        song_info = extract_song_info(mp3_file_content)\n",
    "        if song_info is None:\n",
    "            print(\"Error: Failed to decode JSON response for file:\", filename)\n",
    "            continue  # Skip to the next iteration of the loop or handle the error as needed\n",
    "        \n",
    "        # check if there are any matches\n",
    "        if len(song_info[1]['matches']) == 0:\n",
    "\n",
    "            # if no matched, add filename to no_song_found DF\n",
    "            no_song_found.append({'File_Name': filename})\n",
    "\n",
    "        else:\n",
    "            # if matches found, extract relevant information\n",
    "            title = song_info[1]['track']['title']\n",
    "            artist = song_info[1]['track']['subtitle']\n",
    "            subject = song_info[1][\"track\"][\"share\"][\"subject\"]\n",
    "\n",
    "              # Check if 'actions' key exists\n",
    "            if 'actions' in song_info[1]['track']['hub']:\n",
    "                \n",
    "                # Check if there are any actions available\n",
    "                if len(song_info[1]['track']['hub']['actions']) > 1:\n",
    "                    preview_link = song_info[1]['track']['hub']['actions'][1]['uri']\n",
    "                else:\n",
    "                    preview_link = None\n",
    "\n",
    "            # If 'actions' key doesn't exist, look for preview link in other possible locations\n",
    "            else:\n",
    "                # Check if preview link exists in 'share' key\n",
    "                if 'href' in song_info[1]['track']['share']:\n",
    "                    preview_link = song_info[1]['track']['share']['href']\n",
    "                # If preview link not found, set it to None\n",
    "                else:\n",
    "                    preview_link = None\n",
    "\n",
    "            ###preview_link = song_info[1]['track']['hub']['actions'][1]['uri']\n",
    "            \n",
    "            # append information to the songs_info list\n",
    "            songs_info.append({'Title': title, 'Artist': artist, 'Subject': subject, 'Preview_Link': preview_link})\n",
    "\n",
    "print(\"Song information extraction complete!\")\n"
   ]
  },
  {
   "cell_type": "code",
   "execution_count": null,
   "metadata": {},
   "outputs": [],
   "source": [
    "song_df = pd.DataFrame(songs_info)\n",
    "no_songs_df = pd.DataFrame(no_song_found)"
   ]
  },
  {
   "cell_type": "markdown",
   "metadata": {},
   "source": [
    "#### Below is Audrey's code, testing Shazam"
   ]
  },
  {
   "cell_type": "code",
   "execution_count": 13,
   "metadata": {},
   "outputs": [
    {
     "name": "stdout",
     "output_type": "stream",
     "text": [
      "(8.0, {'matches': [{'id': '213384455', 'offset': -4.565788574, 'timeskew': 0.0004633665, 'frequencyskew': -0.000120818615}, {'id': '687594120', 'offset': -4.081568847, 'timeskew': 0.00014019012, 'frequencyskew': 0.0}, {'id': '472505492', 'offset': -3.623958496, 'timeskew': 0.0013375282, 'frequencyskew': -0.00016111135}], 'location': {'accuracy': 0.01}, 'timestamp': 1713574365441, 'timezone': 'Europe/Moscow', 'track': {'layout': '5', 'type': 'MUSIC', 'key': '245559138', 'title': 'Whistle (Edit)', 'subtitle': 'Joel Merry', 'images': {'background': 'https://is1-ssl.mzstatic.com/image/thumb/Music116/v4/1d/95/d8/1d95d899-ca27-20e9-dd25-edb0a2127b21/5037300064451.jpg/400x400cc.jpg', 'coverart': 'https://is1-ssl.mzstatic.com/image/thumb/Music116/v4/1d/95/d8/1d95d899-ca27-20e9-dd25-edb0a2127b21/5037300064451.jpg/400x400cc.jpg', 'coverarthq': 'https://is1-ssl.mzstatic.com/image/thumb/Music116/v4/1d/95/d8/1d95d899-ca27-20e9-dd25-edb0a2127b21/5037300064451.jpg/400x400cc.jpg', 'joecolor': 'b:e9f1f3p:0e0c0fs:28201dt:3a3a3dq:4f4a48'}, 'share': {'subject': 'Whistle (Edit) - Joel Merry', 'text': 'Whistle (Edit) от Joel Merry', 'href': 'https://www.shazam.com/track/245559138/whistle-edit', 'image': 'https://is1-ssl.mzstatic.com/image/thumb/Music116/v4/1d/95/d8/1d95d899-ca27-20e9-dd25-edb0a2127b21/5037300064451.jpg/400x400cc.jpg', 'twitter': 'Мое открытие на @Shazam: Joel Merry – Whistle (Edit).', 'html': 'https://www.shazam.com/snippets/email-share/245559138?lang=ru&country=RU', 'snapchat': 'https://www.shazam.com/partner/sc/track/245559138'}, 'hub': {'type': 'APPLEMUSIC', 'image': 'https://images.shazam.com/static/icons/hub/ios/v5/applemusic_{scalefactor}.png', 'actions': [{'name': 'apple', 'type': 'applemusicplay', 'id': '1729361248'}, {'name': 'apple', 'type': 'uri', 'uri': 'https://audio-ssl.itunes.apple.com/itunes-assets/AudioPreview126/v4/af/98/a6/af98a6d6-9b48-bdd7-4646-793974e66e23/mzaf_15997244971500515573.plus.aac.ep.m4a'}], 'options': [{'caption': 'ОТКРЫТЬ В', 'actions': [{'name': 'hub:applemusic:deeplink', 'type': 'applemusicopen', 'uri': 'https://music.apple.com/ru/album/whistle-edit/1729361247?i=1729361248&mttnagencyid=s2n&mttnsiteid=125115&mttn3pid=Apple-Shazam&mttnsub1=Shazam_ios&mttnsub2=5348615A-616D-3235-3830-44754D6D5973&itscg=30201&app=music&itsct=Shazam_ios'}, {'name': 'hub:applemusic:deeplink', 'type': 'uri', 'uri': 'https://music.apple.com/ru/album/whistle-edit/1729361247?i=1729361248&mttnagencyid=s2n&mttnsiteid=125115&mttn3pid=Apple-Shazam&mttnsub1=Shazam_ios&mttnsub2=5348615A-616D-3235-3830-44754D6D5973&itscg=30201&app=music&itsct=Shazam_ios'}], 'beacondata': {'type': 'open', 'providername': 'applemusic'}, 'image': 'https://images.shazam.com/static/icons/hub/ios/v5/overflow-open-option_{scalefactor}.png', 'type': 'open', 'listcaption': 'Открыть в Apple Music', 'overflowimage': 'https://images.shazam.com/static/icons/hub/ios/v5/applemusic-overflow_{scalefactor}.png', 'colouroverflowimage': False, 'providername': 'applemusic'}, {'caption': 'КУПИТЬ', 'actions': [{'type': 'uri', 'uri': 'https://itunes.apple.com/ru/album/whistle-edit/1729361247?i=1729361248&mttnagencyid=s2n&mttnsiteid=125115&mttn3pid=Apple-Shazam&mttnsub1=Shazam_ios&mttnsub2=5348615A-616D-3235-3830-44754D6D5973&itscg=30201&app=itunes&itsct=Shazam_ios'}], 'beacondata': {'type': 'buy', 'providername': 'itunes'}, 'image': 'https://images.shazam.com/static/icons/hub/ios/v5/itunes-overflow-buy_{scalefactor}.png', 'type': 'buy', 'listcaption': 'Купить на iTunes', 'overflowimage': 'https://images.shazam.com/static/icons/hub/ios/v5/itunes-overflow-buy_{scalefactor}.png', 'colouroverflowimage': False, 'providername': 'itunes'}], 'providers': [{'caption': 'Открыть в Spotify', 'images': {'overflow': 'https://images.shazam.com/static/icons/hub/ios/v5/spotify-overflow_{scalefactor}.png', 'default': 'https://images.shazam.com/static/icons/hub/ios/v5/spotify_{scalefactor}.png'}, 'actions': [{'name': 'hub:spotify:searchdeeplink', 'type': 'uri', 'uri': 'spotify:search:Whistle%20%28Edit%29%20Joel%20Merry'}], 'type': 'SPOTIFY'}, {'caption': 'Открыть в Deezer', 'images': {'overflow': 'https://images.shazam.com/static/icons/hub/ios/v5/deezer-overflow_{scalefactor}.png', 'default': 'https://images.shazam.com/static/icons/hub/ios/v5/deezer_{scalefactor}.png'}, 'actions': [{'name': 'hub:deezer:searchdeeplink', 'type': 'uri', 'uri': 'deezer-query://www.deezer.com/play?query=%7Btrack%3A%27Whistle+%28Edit%29%27%20artist%3A%27Joel+Merry%27%7D'}], 'type': 'DEEZER'}], 'explicit': False, 'displayname': 'APPLE MUSIC'}, 'sections': [{'type': 'SONG', 'metapages': [{'image': 'https://is1-ssl.mzstatic.com/image/thumb/Music116/v4/1d/95/d8/1d95d899-ca27-20e9-dd25-edb0a2127b21/5037300064451.jpg/400x400cc.jpg', 'caption': 'Whistle (Edit)'}], 'tabname': 'Песня', 'metadata': [{'title': 'Альбом', 'text': 'Whistle (Edit) - Single'}, {'title': 'Лейбл', 'text': 'Double J Music'}, {'title': 'Выпущено', 'text': '2024'}]}, {'type': 'RELATED', 'url': 'https://cdn.shazam.com/shazam/v3/ru/RU/iphone/-/tracks/track-similarities-id-245559138?startFrom=0&pageSize=20&connected=', 'tabname': 'Похожие'}], 'url': 'https://www.shazam.com/track/245559138/whistle-edit', 'artists': [{'id': '42', 'adamid': '1544971689'}], 'isrc': 'TCABF1270739', 'genres': {'primary': 'Поп'}, 'urlparams': {'{tracktitle}': 'Whistle+%28Edit%29', '{trackartist}': 'Joel+Merry'}, 'myshazam': {'apple': {'actions': [{'name': 'myshazam:apple', 'type': 'uri', 'uri': 'https://music.apple.com/ru/album/whistle-edit/1729361247?i=1729361248&mttnagencyid=s2n&mttnsiteid=125115&mttn3pid=Apple-Shazam&mttnsub1=Shazam_ios&mttnsub2=5348615A-616D-3235-3830-44754D6D5973&itscg=30201&app=music&itsct=Shazam_ios'}]}}, 'highlightsurls': {}, 'relatedtracksurl': 'https://cdn.shazam.com/shazam/v3/ru/RU/iphone/-/tracks/track-similarities-id-245559138?startFrom=0&pageSize=20&connected=', 'albumadamid': '1729361247'}, 'tagid': '26A95CBD-B1C5-489C-A13A-EC7DEBD50070'})\n"
     ]
    }
   ],
   "source": [
    "# testing ShazamAPI\n",
    "\n",
    "from ShazamAPI import Shazam\n",
    "\n",
    "mp3_file_content_to_recognize = open('test_sound_.mp3', 'rb').read()\n",
    "\n",
    "shazam = Shazam(\n",
    "    mp3_file_content_to_recognize,\n",
    "    #lang='en',\n",
    "    #time_zone='Europe/Paris'\n",
    ")\n",
    "recognize_generator = shazam.recognizeSong()\n",
    "\n",
    "# this gets all recognized songs\n",
    "# while True:\n",
    "#\tprint(next(recognize_generator))\n",
    "\n",
    "# get the first recognized song\n",
    "first_song = next(recognize_generator)\n",
    "\n",
    "print(first_song)"
   ]
  },
  {
   "cell_type": "code",
   "execution_count": 4,
   "metadata": {},
   "outputs": [
    {
     "name": "stdout",
     "output_type": "stream",
     "text": [
      "Song name:  Whistle (Edit)\n",
      "Artist name:  Joel Merry\n",
      "Song subject:  Whistle (Edit) - Joel Merry\n",
      "Link to song preview:  https://audio-ssl.itunes.apple.com/itunes-assets/AudioPreview126/v4/af/98/a6/af98a6d6-9b48-bdd7-4646-793974e66e23/mzaf_15997244971500515573.plus.aac.ep.m4a\n"
     ]
    }
   ],
   "source": [
    "# get title\n",
    "song = first_song[1][\"track\"][\"title\"]\n",
    "\n",
    "# get artist (?)\n",
    "artist = first_song[1][\"track\"][\"subtitle\"]\n",
    "\n",
    "# subject appears to give both track name and artist\n",
    "track_subject = first_song[1][\"track\"][\"share\"][\"subject\"]\n",
    "\n",
    "# downloads preview of the song\n",
    "song_preview = first_song[1][\"track\"][\"hub\"][\"actions\"][1][\"uri\"]\n",
    "\n",
    "print(\"Song name: \", song)\n",
    "print(\"Artist name: \", artist)\n",
    "print(\"Song subject: \", track_subject)\n",
    "print(\"Link to song preview: \", song_preview)\n",
    "\n"
   ]
  },
  {
   "cell_type": "markdown",
   "metadata": {},
   "source": [
    "This will require further testing to see which snippets of data we will need."
   ]
  },
  {
   "cell_type": "code",
   "execution_count": null,
   "metadata": {},
   "outputs": [],
   "source": []
  }
 ],
 "metadata": {
  "kernelspec": {
   "display_name": "Python 3",
   "language": "python",
   "name": "python3"
  },
  "language_info": {
   "codemirror_mode": {
    "name": "ipython",
    "version": 3
   },
   "file_extension": ".py",
   "mimetype": "text/x-python",
   "name": "python",
   "nbconvert_exporter": "python",
   "pygments_lexer": "ipython3",
   "version": "3.12.0"
  }
 },
 "nbformat": 4,
 "nbformat_minor": 2
}
