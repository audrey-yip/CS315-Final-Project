{
 "cells": [
  {
   "cell_type": "markdown",
   "metadata": {},
   "source": [
    "### Getting top 10 Songs for an Artist\n",
    "##### Testing this out so we can later apply to our data \n",
    "####  @author: Jyontika Kapoor"
   ]
  },
  {
   "cell_type": "code",
   "execution_count": 2,
   "metadata": {},
   "outputs": [],
   "source": [
    "# pip install spotipy"
   ]
  },
  {
   "cell_type": "markdown",
   "metadata": {},
   "source": [
    "### The below code uses the **spotipy** package to get the top tracks of an artist. Each artist has a spotify ID which we obtain using *sp.search()*. Then we get the top tracks through the *artist_top_tracks()* method. "
   ]
  },
  {
   "cell_type": "code",
   "execution_count": 22,
   "metadata": {},
   "outputs": [],
   "source": [
    "import spotipy\n",
    "from spotipy.oauth2 import SpotifyClientCredentials\n",
    "import requests\n",
    "from bs4 import BeautifulSoup"
   ]
  },
  {
   "cell_type": "code",
   "execution_count": 13,
   "metadata": {},
   "outputs": [],
   "source": [
    "## CLIENT ID AND CLIENT SECRET\n",
    "### DO NOT PUT ON GIT\n",
    "\n",
    "client_id = 'spotify_client_id'\n",
    "client_secret = 'spotify_client_secret'\n",
    "genius_access_token = 'genius_access_token'\n",
    "\n",
    "\n",
    "client_id = \"c444fc8ca89845e1ae99dd2cfd698fb3\"\n",
    "client_secret = \"acaad0ce292d442080348e6b9a46d9b3\"\n",
    "genius_access_token = \"lOqXN-Ms2yerxQ84trh3ex5sV_QehWhhQNG2BecI0n3DcCuqV2Cq-Sb9py7U7ETO\"\n"
   ]
  },
  {
   "cell_type": "code",
   "execution_count": 7,
   "metadata": {},
   "outputs": [],
   "source": [
    "\n",
    "def get_top_tracks(artist_name, client_id, client_secret):\n",
    "    # Initialize Spotify client with your credentials\n",
    "    credentials = SpotifyClientCredentials(client_id=client_id, client_secret=client_secret)\n",
    "    sp = spotipy.Spotify(client_credentials_manager=credentials)\n",
    "    \n",
    "    # search for the artist to get the Spotify ID through sp.search\n",
    "    results = sp.search(q='artist:' + artist_name, type='artist') \n",
    "    items = results['artists']['items']\n",
    "    if not items:\n",
    "        return []\n",
    "    \n",
    "    \n",
    "    artist_id = items[0]['id']\n",
    "    \n",
    "    top_tracks = sp.artist_top_tracks(artist_id)\n",
    "    \n",
    "    return [track['name'] for track in top_tracks['tracks']]\n"
   ]
  },
  {
   "cell_type": "code",
   "execution_count": 11,
   "metadata": {},
   "outputs": [
    {
     "name": "stdout",
     "output_type": "stream",
     "text": [
      "['Calm Down (with Selena Gomez)', 'Lose You To Love Me', 'Single Soon', 'Love On', 'It Ain’t Me (with Selena Gomez)', 'People You Know', 'Wolves', 'Back To You - From 13 Reasons Why – Season 2 Soundtrack', 'Fetish (feat. Gucci Mane)', 'Same Old Love']\n"
     ]
    }
   ],
   "source": [
    "artist_name = 'Selena Gomez'\n",
    "top_tracks = get_top_tracks(artist_name, client_id, client_secret)\n",
    "print(top_tracks)"
   ]
  },
  {
   "cell_type": "markdown",
   "metadata": {},
   "source": [
    "#### Now we want to get the lyrics for each of the 10 tracks. We will do this using the **genius API** and the requests & bs4 library. The idea is we will search a song name on Genius through the requests library, find a match, and use bs4 to parse the HTML and extract the lyrics."
   ]
  },
  {
   "cell_type": "code",
   "execution_count": 30,
   "metadata": {},
   "outputs": [],
   "source": [
    "def get_lyrics(song_name, artist_name, genius_access_token):\n",
    "    #set up the request using access token \n",
    "    base_url = \"https://api.genius.com\"\n",
    "    headers = {'Authorization': 'Bearer ' + genius_access_token}\n",
    "    search_url = base_url + \"/search\" #getting ready to search!\n",
    "    data = {'q': song_name} #we want to search the song name!\n",
    "\n",
    "    response = requests.get(search_url, params=data, headers=headers)\n",
    "    json = response.json()\n",
    "    path = None\n",
    "\n",
    "    # loops through the search results returned by the Genius API to find a specific song that matches name of song and artist name\n",
    "\n",
    "    for hit in json[\"response\"][\"hits\"]:\n",
    "        if artist_name.lower() in hit[\"result\"][\"primary_artist\"][\"name\"].lower():\n",
    "            path = hit[\"result\"][\"path\"]\n",
    "            break #assuming the first is right \n",
    "\n",
    "    if path:\n",
    "        lyrics_url = \"https://genius.com\" + path\n",
    "        lyrics_response = requests.get(lyrics_url)\n",
    "        soup = BeautifulSoup(lyrics_response.text, 'lxml')\n",
    "        \n",
    "        # used \"inspect\" element to find where lyrics are in HTML \n",
    "        lyrics_div = soup.find('div', {'data-lyrics-container': 'true'})\n",
    "        \n",
    "        # extract the text ... if lyrics are not found return lyrics not found\n",
    "        lyrics = lyrics_div.get_text(separator='\\n', strip=True) if lyrics_div else \"Lyrics not found\"\n",
    "        return lyrics\n",
    "    \n",
    "    \n",
    "    else:\n",
    "        return \"Lyrics not found\"\n"
   ]
  },
  {
   "cell_type": "code",
   "execution_count": 31,
   "metadata": {},
   "outputs": [],
   "source": [
    "artist_name = 'Kesha'\n",
    "tracks = get_top_tracks(artist_name, client_id, client_secret)"
   ]
  },
  {
   "cell_type": "code",
   "execution_count": 32,
   "metadata": {},
   "outputs": [
    {
     "name": "stdout",
     "output_type": "stream",
     "text": [
      "[Verse 1]\n",
      "Wake up in the morning feelin' like P. Diddy\n",
      "(\n",
      "Hey, what up, girl?\n",
      ")\n",
      "Grab my glasses, I'm out the door, I'm gonna hit this city\n",
      "(\n",
      "Let's go\n",
      ")\n",
      "Before I leave, brush my teeth with a bottle of Jack\n",
      "'Cause when I leave for the night, I ain't coming back\n",
      "[Pre-Chorus]\n",
      "I'm talkin' pedicure on our toes, toes, tryin' on all our clothes, clothes\n",
      "Boys blowin' up our phones, phones\n",
      "Drop-toppin', playin' our favorite CDs, pullin' up to the parties\n",
      "Tryna get a little bit tipsy\n",
      "[Chorus]\n",
      "Don't stop, make it pop, DJ, blow my speakers up\n",
      "Tonight, I'ma fight 'til we see the sunlight\n",
      "Tick tock on the clock, but the party don't stop, no\n",
      "Oh, woah, woah, oh, oh, woah, woah, oh\n",
      "Don't stop, make it pop, DJ, blow my speakers up\n",
      "Tonight, I'ma fight 'til we see the sunlight\n",
      "Tick tock on the clock, but the party don't stop, no\n",
      "Oh, woah, woah, oh, oh, woah, woah, oh\n",
      "[Verse 2]\n",
      "Ain't got a care in the world, but got plenty of beer\n",
      "Ain't got no money in my pocket, but I'm already here\n",
      "And now the dudes are linin' up, 'cause they hear we got swagger\n",
      "But we kick 'em to the curb unless they look like Mick Jagger\n"
     ]
    }
   ],
   "source": [
    "lyrics = get_lyrics(tracks[1], artist_name, genius_access_token)\n",
    "print(lyrics)"
   ]
  },
  {
   "cell_type": "code",
   "execution_count": null,
   "metadata": {},
   "outputs": [],
   "source": []
  }
 ],
 "metadata": {
  "kernelspec": {
   "display_name": "Python 3",
   "language": "python",
   "name": "python3"
  },
  "language_info": {
   "codemirror_mode": {
    "name": "ipython",
    "version": 3
   },
   "file_extension": ".py",
   "mimetype": "text/x-python",
   "name": "python",
   "nbconvert_exporter": "python",
   "pygments_lexer": "ipython3",
   "version": "3.12.0"
  }
 },
 "nbformat": 4,
 "nbformat_minor": 2
}
