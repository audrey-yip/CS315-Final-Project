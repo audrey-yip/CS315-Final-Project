{
 "cells": [
  {
   "cell_type": "markdown",
   "metadata": {},
   "source": [
    "# Clustering Notebook"
   ]
  },
  {
   "cell_type": "markdown",
   "metadata": {},
   "source": [
    "#### Read Data"
   ]
  },
  {
   "cell_type": "code",
   "execution_count": 3,
   "metadata": {},
   "outputs": [],
   "source": [
    "import pandas as pd\n",
    "\n",
    "df = pd.read_csv('usable_viral_with_lyrics.csv')\n",
    "df.drop(columns=['Unnamed: 0'], inplace=True)"
   ]
  },
  {
   "cell_type": "code",
   "execution_count": 4,
   "metadata": {},
   "outputs": [
    {
     "data": {
      "text/html": [
       "<div>\n",
       "<style scoped>\n",
       "    .dataframe tbody tr th:only-of-type {\n",
       "        vertical-align: middle;\n",
       "    }\n",
       "\n",
       "    .dataframe tbody tr th {\n",
       "        vertical-align: top;\n",
       "    }\n",
       "\n",
       "    .dataframe thead th {\n",
       "        text-align: right;\n",
       "    }\n",
       "</style>\n",
       "<table border=\"1\" class=\"dataframe\">\n",
       "  <thead>\n",
       "    <tr style=\"text-align: right;\">\n",
       "      <th></th>\n",
       "      <th>artist</th>\n",
       "      <th>song_name</th>\n",
       "      <th>viral</th>\n",
       "      <th>lyrics</th>\n",
       "      <th>clean_lyrics</th>\n",
       "    </tr>\n",
       "  </thead>\n",
       "  <tbody>\n",
       "    <tr>\n",
       "      <th>0</th>\n",
       "      <td>21 Savage</td>\n",
       "      <td>redrum</td>\n",
       "      <td>True</td>\n",
       "      <td>Cai, a noite sobre o nosso amor\\nCai, e agora ...</td>\n",
       "      <td>Cai a noite sobre o nosso amor Cai e agora só ...</td>\n",
       "    </tr>\n",
       "    <tr>\n",
       "      <th>1</th>\n",
       "      <td>21 Savage</td>\n",
       "      <td>née-nah</td>\n",
       "      <td>False</td>\n",
       "      <td>I took a ballerina down to the ball dance\\nMet...</td>\n",
       "      <td>I took a ballerina down to the ball dance Met ...</td>\n",
       "    </tr>\n",
       "    <tr>\n",
       "      <th>2</th>\n",
       "      <td>21 Savage</td>\n",
       "      <td>ball w/o you</td>\n",
       "      <td>False</td>\n",
       "      <td>Woah\\nWoah, woah\\n\\n\\nYou runnin' 'round drink...</td>\n",
       "      <td>Woah Woah woah   You runnin round drinkin liqu...</td>\n",
       "    </tr>\n",
       "    <tr>\n",
       "      <th>3</th>\n",
       "      <td>21 Savage</td>\n",
       "      <td>Rich Flex</td>\n",
       "      <td>False</td>\n",
       "      <td>\\n\\nGo buy a zip of weed, hit the club\\nPay fo...</td>\n",
       "      <td>Go buy a zip of weed hit the club Pay for bo...</td>\n",
       "    </tr>\n",
       "    <tr>\n",
       "      <th>4</th>\n",
       "      <td>Bobby Caldwell</td>\n",
       "      <td>Coming Down from Love</td>\n",
       "      <td>False</td>\n",
       "      <td>From the beginning\\nYou were my life\\nAnd thro...</td>\n",
       "      <td>From the beginning You were my life And throug...</td>\n",
       "    </tr>\n",
       "    <tr>\n",
       "      <th>...</th>\n",
       "      <td>...</td>\n",
       "      <td>...</td>\n",
       "      <td>...</td>\n",
       "      <td>...</td>\n",
       "      <td>...</td>\n",
       "    </tr>\n",
       "    <tr>\n",
       "      <th>90</th>\n",
       "      <td>¥$</td>\n",
       "      <td>BURN</td>\n",
       "      <td>False</td>\n",
       "      <td>Her body like the wild, wild west\\nWhat if you...</td>\n",
       "      <td>Her body like the wild wild west What if you d...</td>\n",
       "    </tr>\n",
       "    <tr>\n",
       "      <th>91</th>\n",
       "      <td>¥$</td>\n",
       "      <td>VULTURES</td>\n",
       "      <td>False</td>\n",
       "      <td>All eyes is on me\\nWon't tell no lies, won't h...</td>\n",
       "      <td>All eyes is on me Wont tell no lies wont hold ...</td>\n",
       "    </tr>\n",
       "    <tr>\n",
       "      <th>92</th>\n",
       "      <td>¥$</td>\n",
       "      <td>CARNIVAL</td>\n",
       "      <td>True</td>\n",
       "      <td>Go, go, go, go\\nHead so good, she a honor roll...</td>\n",
       "      <td>Go go go go Head so good she a honor roll She ...</td>\n",
       "    </tr>\n",
       "    <tr>\n",
       "      <th>93</th>\n",
       "      <td>¥$</td>\n",
       "      <td>PAPERWORK</td>\n",
       "      <td>False</td>\n",
       "      <td>Let me get my paper right\\nThen come out, let'...</td>\n",
       "      <td>Let me get my paper right Then come out lets p...</td>\n",
       "    </tr>\n",
       "    <tr>\n",
       "      <th>94</th>\n",
       "      <td>¥$</td>\n",
       "      <td>TALKING</td>\n",
       "      <td>False</td>\n",
       "      <td>\\n\\nYou don't want no problems, you just— (Tal...</td>\n",
       "      <td>You dont want no problems you just Talking Y...</td>\n",
       "    </tr>\n",
       "  </tbody>\n",
       "</table>\n",
       "<p>95 rows × 5 columns</p>\n",
       "</div>"
      ],
      "text/plain": [
       "            artist              song_name  viral  \\\n",
       "0        21 Savage                 redrum   True   \n",
       "1        21 Savage                née-nah  False   \n",
       "2        21 Savage           ball w/o you  False   \n",
       "3        21 Savage              Rich Flex  False   \n",
       "4   Bobby Caldwell  Coming Down from Love  False   \n",
       "..             ...                    ...    ...   \n",
       "90              ¥$                   BURN  False   \n",
       "91              ¥$               VULTURES  False   \n",
       "92              ¥$               CARNIVAL   True   \n",
       "93              ¥$              PAPERWORK  False   \n",
       "94              ¥$                TALKING  False   \n",
       "\n",
       "                                               lyrics  \\\n",
       "0   Cai, a noite sobre o nosso amor\\nCai, e agora ...   \n",
       "1   I took a ballerina down to the ball dance\\nMet...   \n",
       "2   Woah\\nWoah, woah\\n\\n\\nYou runnin' 'round drink...   \n",
       "3   \\n\\nGo buy a zip of weed, hit the club\\nPay fo...   \n",
       "4   From the beginning\\nYou were my life\\nAnd thro...   \n",
       "..                                                ...   \n",
       "90  Her body like the wild, wild west\\nWhat if you...   \n",
       "91  All eyes is on me\\nWon't tell no lies, won't h...   \n",
       "92  Go, go, go, go\\nHead so good, she a honor roll...   \n",
       "93  Let me get my paper right\\nThen come out, let'...   \n",
       "94  \\n\\nYou don't want no problems, you just— (Tal...   \n",
       "\n",
       "                                         clean_lyrics  \n",
       "0   Cai a noite sobre o nosso amor Cai e agora só ...  \n",
       "1   I took a ballerina down to the ball dance Met ...  \n",
       "2   Woah Woah woah   You runnin round drinkin liqu...  \n",
       "3     Go buy a zip of weed hit the club Pay for bo...  \n",
       "4   From the beginning You were my life And throug...  \n",
       "..                                                ...  \n",
       "90  Her body like the wild wild west What if you d...  \n",
       "91  All eyes is on me Wont tell no lies wont hold ...  \n",
       "92  Go go go go Head so good she a honor roll She ...  \n",
       "93  Let me get my paper right Then come out lets p...  \n",
       "94    You dont want no problems you just Talking Y...  \n",
       "\n",
       "[95 rows x 5 columns]"
      ]
     },
     "execution_count": 4,
     "metadata": {},
     "output_type": "execute_result"
    }
   ],
   "source": [
    "df"
   ]
  },
  {
   "cell_type": "markdown",
   "metadata": {},
   "source": [
    "### Start with tf-idf"
   ]
  },
  {
   "cell_type": "code",
   "execution_count": 5,
   "metadata": {},
   "outputs": [],
   "source": [
    "from sklearn.feature_extraction.text import TfidfVectorizer\n",
    "import nltk.stem\n",
    "\n",
    "# English stemmer\n",
    "english_stemmer = nltk.stem.SnowballStemmer('english')\n",
    "\n",
    "# Custon TF-IDF vectorizer that stems words (from slides)\n",
    "class StemmedTfidfVectorizer(TfidfVectorizer):\n",
    "    def build_analyzer(self):\n",
    "        analyzer = super(TfidfVectorizer, self).build_analyzer()\n",
    "        return lambda doc: (english_stemmer.stem(w) for w in analyzer(doc))\n"
   ]
  },
  {
   "cell_type": "code",
   "execution_count": 6,
   "metadata": {},
   "outputs": [
    {
     "data": {
      "text/plain": [
       "<95x167 sparse matrix of type '<class 'numpy.float64'>'\n",
       "\twith 3019 stored elements in Compressed Sparse Row format>"
      ]
     },
     "execution_count": 6,
     "metadata": {},
     "output_type": "execute_result"
    }
   ],
   "source": [
    "# Step 1: Calculate Song Representations\n",
    "vectorizer = StemmedTfidfVectorizer(min_df=10, max_df=0.5,  # % of documents containing a word\n",
    "                                     stop_words='english',\n",
    "                                     decode_error='ignore')\n",
    "\n",
    "vectorized = vectorizer.fit_transform(df['clean_lyrics'])\n",
    "vectorized"
   ]
  },
  {
   "cell_type": "code",
   "execution_count": null,
   "metadata": {},
   "outputs": [],
   "source": []
  }
 ],
 "metadata": {
  "kernelspec": {
   "display_name": "Python 3",
   "language": "python",
   "name": "python3"
  },
  "language_info": {
   "codemirror_mode": {
    "name": "ipython",
    "version": 3
   },
   "file_extension": ".py",
   "mimetype": "text/x-python",
   "name": "python",
   "nbconvert_exporter": "python",
   "pygments_lexer": "ipython3",
   "version": "3.12.0"
  }
 },
 "nbformat": 4,
 "nbformat_minor": 2
}
