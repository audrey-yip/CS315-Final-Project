{
 "cells": [
  {
   "cell_type": "markdown",
   "metadata": {},
   "source": [
    "# Principle Component Analysis for Song-lyric Keywords\n",
    "\n",
    "In this notebook, we demonstrate how we can use PCA for dimensionality reduction, which can be useful for visualizing word embeddings. We use a subset of topics that Miles found from a dataset of song lyrics, which our group (Section 2, Group 3) will use for the Final Project. We then calculate their embeddings and perform principle component analysis, before discussing the explained variance of our components. Lastly, we create the visualization of the words as they correspond to their original topics.\n",
    "\n",
    "**Table of Contents**\n",
    "1. [Data preprocessing and Calculating Word Embeddings](#data-preprocessing-and-calculating-word-embeddings)\n",
    "2. [Principal Components and Explained Variance](#calculating-principal-components)\n",
    "3. [Visualizing Words and Topics](#visualizing-words-and-topics)\n",
    "\n",
    "**Authors: Jyontika and Audrey**"
   ]
  },
  {
   "cell_type": "markdown",
   "metadata": {},
   "source": [
    "### Data preprocessing and Calculating Word Embeddings\n",
    "Here are three of the topics that Miles identified from the dataset of song lyrics using LDA Topic Modeling. We will be using these as our data for this example."
   ]
  },
  {
   "cell_type": "code",
   "execution_count": 81,
   "metadata": {},
   "outputs": [],
   "source": [
    "topic_dict = {}\n",
    "topic_dict['topic_0'] = ['heart', 'tonight', 'dream', 'love', 'dance', 'night', 'song', 'sweet', 'kiss', 'arms']\n",
    "topic_dict['topic_1'] = ['god', 'lord', 'soul', 'heaven', 'jesus', 'born', 'king', 'earth', 'holy', 'world']\n",
    "topic_dict['topic_2'] = ['life', 'world', 'live', 'die', 'like', 'end', 'lies', 'people', 'living', 'inside']"
   ]
  },
  {
   "cell_type": "markdown",
   "metadata": {},
   "source": [
    "These three topics appear to correspond to distinct words, but note that 'world' appears in both `topic_1` and `topic_2`. For simplicity in this example, we assign 'world' to `topic_2`.\n",
    "\n",
    "Let us find all unique keywords, and calculate their word embeddings using the Universal Sentence Encoder (which we used in Project 2). "
   ]
  },
  {
   "cell_type": "code",
   "execution_count": 55,
   "metadata": {},
   "outputs": [
    {
     "name": "stdout",
     "output_type": "stream",
     "text": [
      "Number of keywords:  29\n"
     ]
    }
   ],
   "source": [
    "# Combine all lists of keywords into one list\n",
    "all_keywords = []\n",
    "for topic in topic_dict.values():\n",
    "    all_keywords.extend(topic)\n",
    "\n",
    "# Convert the list to a set to remove duplicates. \n",
    "unique_keywords = list(set(all_keywords))\n",
    "\n",
    "print(\"Number of keywords: \", len(unique_keywords))"
   ]
  },
  {
   "cell_type": "code",
   "execution_count": null,
   "metadata": {},
   "outputs": [],
   "source": [
    "import tensorflow as tf\n",
    "import tensorflow_hub as hub\n",
    "import numpy as np\n",
    "\n",
    "# Load the Universal Sentence Encoder's TF Hub module\n",
    "embed = hub.load(\"https://tfhub.dev/google/universal-sentence-encoder/4\")"
   ]
  },
  {
   "cell_type": "code",
   "execution_count": 56,
   "metadata": {},
   "outputs": [],
   "source": [
    "# Calculate the embeddings\n",
    "keywordEmbed = embed(unique_keywords)"
   ]
  },
  {
   "cell_type": "markdown",
   "metadata": {},
   "source": [
    "### Calculating Principal Components\n",
    "\n",
    "We then use PCA to reduce the dimensionality of our data. Recall that the Universal Sentence encoder returns vectors of dimension n=512.\n",
    "\n",
    "* We do not need to standardize our data as all the embeddings are the are normalized to have unit norm. Therefore, the range of values for each dimension are already between -1 and 1.\n",
    "* We use the `pca.fit_transform()` method from the PCA implementation in `sklearn.decomposition`. You can learn more about this method from the documentation linked [here](https://scikit-learn.org/stable/modules/generated/sklearn.decomposition.PCA.html)"
   ]
  },
  {
   "cell_type": "code",
   "execution_count": 86,
   "metadata": {},
   "outputs": [],
   "source": [
    "import pandas as pd\n",
    "from sklearn.decomposition import PCA\n",
    "\n",
    "pca = PCA(n_components=2)   # We want 2 principal components so that we can visualize our embeddings in 2D\n",
    "\n",
    "# Fit the Principal Components\n",
    "transformed_data = pca.fit_transform(keywordEmbed)"
   ]
  },
  {
   "cell_type": "markdown",
   "metadata": {},
   "source": [
    "We can see what each Principal Component looks like in the following Dataframe."
   ]
  },
  {
   "cell_type": "code",
   "execution_count": null,
   "metadata": {},
   "outputs": [],
   "source": [
    "# Create a Dataframe with the words and corresponding PCs\n",
    "principalDf = pd.DataFrame(data = transformed_data\n",
    "             , columns = ['Principal Component 1', 'Principal Component 2'])\n",
    "principalDf['Words'] = unique_keywords\n",
    "\n",
    "# Map words to topics\n",
    "word_to_topic = {}\n",
    "for topic, words in topic_dict.items():\n",
    "    for word in words:\n",
    "        word_to_topic[word] = topic\n",
    "\n",
    "# Create a list of topics for each word\n",
    "topics = [word_to_topic[word] for word in unique_keywords]\n",
    "\n",
    "# Add the 'Topic' column\n",
    "principalDf['Topic'] = topics"
   ]
  },
  {
   "cell_type": "code",
   "execution_count": 90,
   "metadata": {},
   "outputs": [
    {
     "data": {
      "text/html": [
       "<div>\n",
       "<style scoped>\n",
       "    .dataframe tbody tr th:only-of-type {\n",
       "        vertical-align: middle;\n",
       "    }\n",
       "\n",
       "    .dataframe tbody tr th {\n",
       "        vertical-align: top;\n",
       "    }\n",
       "\n",
       "    .dataframe thead th {\n",
       "        text-align: right;\n",
       "    }\n",
       "</style>\n",
       "<table border=\"1\" class=\"dataframe\">\n",
       "  <thead>\n",
       "    <tr style=\"text-align: right;\">\n",
       "      <th></th>\n",
       "      <th>Principal Component 1</th>\n",
       "      <th>Principal Component 2</th>\n",
       "      <th>Words</th>\n",
       "      <th>Topic</th>\n",
       "    </tr>\n",
       "  </thead>\n",
       "  <tbody>\n",
       "    <tr>\n",
       "      <th>0</th>\n",
       "      <td>0.181368</td>\n",
       "      <td>-0.225071</td>\n",
       "      <td>earth</td>\n",
       "      <td>topic_1</td>\n",
       "    </tr>\n",
       "    <tr>\n",
       "      <th>1</th>\n",
       "      <td>0.432504</td>\n",
       "      <td>-0.095256</td>\n",
       "      <td>live</td>\n",
       "      <td>topic_2</td>\n",
       "    </tr>\n",
       "    <tr>\n",
       "      <th>2</th>\n",
       "      <td>0.361407</td>\n",
       "      <td>0.213684</td>\n",
       "      <td>die</td>\n",
       "      <td>topic_2</td>\n",
       "    </tr>\n",
       "    <tr>\n",
       "      <th>3</th>\n",
       "      <td>0.068484</td>\n",
       "      <td>0.146056</td>\n",
       "      <td>lies</td>\n",
       "      <td>topic_2</td>\n",
       "    </tr>\n",
       "    <tr>\n",
       "      <th>4</th>\n",
       "      <td>-0.109479</td>\n",
       "      <td>0.275085</td>\n",
       "      <td>arms</td>\n",
       "      <td>topic_0</td>\n",
       "    </tr>\n",
       "  </tbody>\n",
       "</table>\n",
       "</div>"
      ],
      "text/plain": [
       "   Principal Component 1  Principal Component 2  Words    Topic\n",
       "0               0.181368              -0.225071  earth  topic_1\n",
       "1               0.432504              -0.095256   live  topic_2\n",
       "2               0.361407               0.213684    die  topic_2\n",
       "3               0.068484               0.146056   lies  topic_2\n",
       "4              -0.109479               0.275085   arms  topic_0"
      ]
     },
     "execution_count": 90,
     "metadata": {},
     "output_type": "execute_result"
    }
   ],
   "source": [
    "principalDf.head()"
   ]
  },
  {
   "cell_type": "markdown",
   "metadata": {},
   "source": [
    "We may also want to inspect the **Explained Variance** of our model, which tells us how much information (variance) can be attributed to each of the principal components. These are also known as the eigenvalues, which represent the variance in the direction of the corresponding eigenvectors.\n",
    "\n",
    "This is important because when we reduce the high-dimensional space our word embeddings to a two-dimensional space, we lose some of the variance (or information). We can do this using the attribute `explained_variance_ratio_`."
   ]
  },
  {
   "cell_type": "code",
   "execution_count": 82,
   "metadata": {},
   "outputs": [
    {
     "name": "stdout",
     "output_type": "stream",
     "text": [
      "Explained Variance Ratio for Principal Component 1: 0.09165317460970537\n",
      "Explained Variance Ratio for Principal Component 2: 0.0826962392749292\n"
     ]
    }
   ],
   "source": [
    "explained_variance_ratio = pca.explained_variance_ratio_\n",
    "print(\"Explained Variance Ratio for Principal Component 1:\", explained_variance_ratio[0])\n",
    "print(\"Explained Variance Ratio for Principal Component 2:\", explained_variance_ratio[1])"
   ]
  },
  {
   "cell_type": "markdown",
   "metadata": {},
   "source": [
    "Here, you can see that the first principal component contains 9.17% of the variance, and the second principal component contains 8.27% of the variance. Together, the two components only contain 17.44% of the original information. Ideally, we would want this number to be high, so this is a limitation of reducing our dimensions from 512 to 2."
   ]
  },
  {
   "cell_type": "markdown",
   "metadata": {},
   "source": [
    "### Visualizing Words and Topics\n",
    "Now, let us visualize our words based on their principal components. We assign each topic a color and label each point with its word."
   ]
  },
  {
   "cell_type": "code",
   "execution_count": 94,
   "metadata": {},
   "outputs": [
    {
     "data": {
      "image/png": "[encoded data removed]",
      "text/plain": [
       "<Figure size 1000x800 with 1 Axes>"
      ]
     },
     "metadata": {},
     "output_type": "display_data"
    }
   ],
   "source": [
    "import matplotlib.pyplot as plt\n",
    "\n",
    "# Define colors for each topic\n",
    "colors = ['slateblue', 'limegreen', 'salmon']\n",
    "\n",
    "# Create a scatter plot\n",
    "plt.figure(figsize=(10, 8))\n",
    "for i, topic in enumerate(topic_dict.values()):\n",
    "    # Get the indices of keywords in each topic\n",
    "    indices = [unique_keywords.index(word) for word in topic]\n",
    "    # Plot the points for this topic. This is so we can assign colors for each topic.\n",
    "    plt.scatter(principalComponents[indices, 0], principalComponents[indices, 1], color=colors[i], label=f'Topic {i}')\n",
    "\n",
    "# Annotate each point with its corresponding word\n",
    "for i, word in enumerate(unique_keywords):\n",
    "    plt.annotate(word, (principalComponents[i, 0], principalComponents[i, 1]))\n",
    "\n",
    "# Now, we can plot our data\n",
    "plt.title('Visualization of Topics with Keyword Labels')\n",
    "plt.xlabel('Principal Component 1')\n",
    "plt.ylabel('Principal Component 2')\n",
    "plt.legend()\n",
    "\n",
    "plt.grid(True)\n",
    "plt.show()\n"
   ]
  },
  {
   "cell_type": "markdown",
   "metadata": {},
   "source": [
    "From this plot, we can see that the topics do not correspond to clear clusters (as we may have seen in previous examples for clustering and TSNE visualizations). This is largely due to the small explained variance of our principal components. Nevertheless, this visualization closely mirrors what we would expect to see - with religion-connoted words like \"holy,\" \"lord,\" \"jesus,\" and \"god\" on one side, and semantically-similar words like \"life,\" \"living,\" and \"life\" on the other. \"world\" also falls somewhere between the words from `topic_1` and `topic_2`, which is what we anticipate.  "
   ]
  },
  {
   "cell_type": "markdown",
   "metadata": {},
   "source": [
    "# OLD CODE"
   ]
  },
  {
   "cell_type": "code",
   "execution_count": 53,
   "metadata": {},
   "outputs": [
    {
     "data": {
      "text/html": [
       "<div>\n",
       "<style scoped>\n",
       "    .dataframe tbody tr th:only-of-type {\n",
       "        vertical-align: middle;\n",
       "    }\n",
       "\n",
       "    .dataframe tbody tr th {\n",
       "        vertical-align: top;\n",
       "    }\n",
       "\n",
       "    .dataframe thead th {\n",
       "        text-align: right;\n",
       "    }\n",
       "</style>\n",
       "<table border=\"1\" class=\"dataframe\">\n",
       "  <thead>\n",
       "    <tr style=\"text-align: right;\">\n",
       "      <th></th>\n",
       "      <th>topic_0</th>\n",
       "      <th>topic_1</th>\n",
       "      <th>topic_2</th>\n",
       "    </tr>\n",
       "  </thead>\n",
       "  <tbody>\n",
       "    <tr>\n",
       "      <th>0</th>\n",
       "      <td>heart</td>\n",
       "      <td>god</td>\n",
       "      <td>life</td>\n",
       "    </tr>\n",
       "    <tr>\n",
       "      <th>1</th>\n",
       "      <td>tonight</td>\n",
       "      <td>lord</td>\n",
       "      <td>world</td>\n",
       "    </tr>\n",
       "    <tr>\n",
       "      <th>2</th>\n",
       "      <td>dream</td>\n",
       "      <td>soul</td>\n",
       "      <td>live</td>\n",
       "    </tr>\n",
       "    <tr>\n",
       "      <th>3</th>\n",
       "      <td>love</td>\n",
       "      <td>heaven</td>\n",
       "      <td>die</td>\n",
       "    </tr>\n",
       "    <tr>\n",
       "      <th>4</th>\n",
       "      <td>dance</td>\n",
       "      <td>jesus</td>\n",
       "      <td>like</td>\n",
       "    </tr>\n",
       "    <tr>\n",
       "      <th>5</th>\n",
       "      <td>night</td>\n",
       "      <td>born</td>\n",
       "      <td>end</td>\n",
       "    </tr>\n",
       "    <tr>\n",
       "      <th>6</th>\n",
       "      <td>song</td>\n",
       "      <td>king</td>\n",
       "      <td>lies</td>\n",
       "    </tr>\n",
       "    <tr>\n",
       "      <th>7</th>\n",
       "      <td>sweet</td>\n",
       "      <td>earth</td>\n",
       "      <td>people</td>\n",
       "    </tr>\n",
       "    <tr>\n",
       "      <th>8</th>\n",
       "      <td>kiss</td>\n",
       "      <td>holy</td>\n",
       "      <td>living</td>\n",
       "    </tr>\n",
       "    <tr>\n",
       "      <th>9</th>\n",
       "      <td>arms</td>\n",
       "      <td>world</td>\n",
       "      <td>inside</td>\n",
       "    </tr>\n",
       "  </tbody>\n",
       "</table>\n",
       "</div>"
      ],
      "text/plain": [
       "   topic_0 topic_1 topic_2\n",
       "0    heart     god    life\n",
       "1  tonight    lord   world\n",
       "2    dream    soul    live\n",
       "3     love  heaven     die\n",
       "4    dance   jesus    like\n",
       "5    night    born     end\n",
       "6     song    king    lies\n",
       "7    sweet   earth  people\n",
       "8     kiss    holy  living\n",
       "9     arms   world  inside"
      ]
     },
     "execution_count": 53,
     "metadata": {},
     "output_type": "execute_result"
    }
   ],
   "source": [
    "#df.from_dict(topic_dict)"
   ]
  },
  {
   "cell_type": "code",
   "execution_count": 19,
   "metadata": {},
   "outputs": [],
   "source": [
    "df = pd.read_json('video_keywords.json')"
   ]
  },
  {
   "cell_type": "code",
   "execution_count": 20,
   "metadata": {},
   "outputs": [
    {
     "data": {
      "text/html": [
       "<div>\n",
       "<style scoped>\n",
       "    .dataframe tbody tr th:only-of-type {\n",
       "        vertical-align: middle;\n",
       "    }\n",
       "\n",
       "    .dataframe tbody tr th {\n",
       "        vertical-align: top;\n",
       "    }\n",
       "\n",
       "    .dataframe thead th {\n",
       "        text-align: right;\n",
       "    }\n",
       "</style>\n",
       "<table border=\"1\" class=\"dataframe\">\n",
       "  <thead>\n",
       "    <tr style=\"text-align: right;\">\n",
       "      <th></th>\n",
       "      <th>video_id</th>\n",
       "      <th>video_keywords</th>\n",
       "    </tr>\n",
       "  </thead>\n",
       "  <tbody>\n",
       "    <tr>\n",
       "      <th>0</th>\n",
       "      <td>7273221955937914155</td>\n",
       "      <td>[angels, tibet, angels, tibet, dance, angels, ...</td>\n",
       "    </tr>\n",
       "    <tr>\n",
       "      <th>1</th>\n",
       "      <td>7285397643725983008</td>\n",
       "      <td>[dream, academy, angels, tibet, adela, dream, ...</td>\n",
       "    </tr>\n",
       "    <tr>\n",
       "      <th>2</th>\n",
       "      <td>7309159185550183723</td>\n",
       "      <td>[flights, people, amazon, student, prime, holi...</td>\n",
       "    </tr>\n",
       "    <tr>\n",
       "      <th>3</th>\n",
       "      <td>7308541182819175722</td>\n",
       "      <td>[replying, emily, today, making, diy, ornament...</td>\n",
       "    </tr>\n",
       "    <tr>\n",
       "      <th>4</th>\n",
       "      <td>7307649122918567211</td>\n",
       "      <td>[nattie, christmas, tree, sad, baby, beige, st...</td>\n",
       "    </tr>\n",
       "    <tr>\n",
       "      <th>...</th>\n",
       "      <td>...</td>\n",
       "      <td>...</td>\n",
       "    </tr>\n",
       "    <tr>\n",
       "      <th>13546</th>\n",
       "      <td>7286461444554624299</td>\n",
       "      <td>[university, pittsburgh, assignment, universit...</td>\n",
       "    </tr>\n",
       "    <tr>\n",
       "      <th>13547</th>\n",
       "      <td>7285527057394584863</td>\n",
       "      <td>[might, new, theyve, grinding, long, time, inc...</td>\n",
       "    </tr>\n",
       "    <tr>\n",
       "      <th>13548</th>\n",
       "      <td>7284024264334806315</td>\n",
       "      <td>[chipotle, chipotle, burrito, chipotle, life, ...</td>\n",
       "    </tr>\n",
       "    <tr>\n",
       "      <th>13549</th>\n",
       "      <td>7284462467290303787</td>\n",
       "      <td>[could, make, way, cuter, video, hiding, face,...</td>\n",
       "    </tr>\n",
       "    <tr>\n",
       "      <th>13550</th>\n",
       "      <td>7286843613030518059</td>\n",
       "      <td>[gotcha, tswizzle, storyofus, silencequitethis...</td>\n",
       "    </tr>\n",
       "  </tbody>\n",
       "</table>\n",
       "<p>13551 rows × 2 columns</p>\n",
       "</div>"
      ],
      "text/plain": [
       "                  video_id                                     video_keywords\n",
       "0      7273221955937914155  [angels, tibet, angels, tibet, dance, angels, ...\n",
       "1      7285397643725983008  [dream, academy, angels, tibet, adela, dream, ...\n",
       "2      7309159185550183723  [flights, people, amazon, student, prime, holi...\n",
       "3      7308541182819175722  [replying, emily, today, making, diy, ornament...\n",
       "4      7307649122918567211  [nattie, christmas, tree, sad, baby, beige, st...\n",
       "...                    ...                                                ...\n",
       "13546  7286461444554624299  [university, pittsburgh, assignment, universit...\n",
       "13547  7285527057394584863  [might, new, theyve, grinding, long, time, inc...\n",
       "13548  7284024264334806315  [chipotle, chipotle, burrito, chipotle, life, ...\n",
       "13549  7284462467290303787  [could, make, way, cuter, video, hiding, face,...\n",
       "13550  7286843613030518059  [gotcha, tswizzle, storyofus, silencequitethis...\n",
       "\n",
       "[13551 rows x 2 columns]"
      ]
     },
     "execution_count": 20,
     "metadata": {},
     "output_type": "execute_result"
    }
   ],
   "source": [
    "df"
   ]
  },
  {
   "cell_type": "code",
   "execution_count": 16,
   "metadata": {},
   "outputs": [
    {
     "data": {
      "text/html": [
       "<div>\n",
       "<style scoped>\n",
       "    .dataframe tbody tr th:only-of-type {\n",
       "        vertical-align: middle;\n",
       "    }\n",
       "\n",
       "    .dataframe tbody tr th {\n",
       "        vertical-align: top;\n",
       "    }\n",
       "\n",
       "    .dataframe thead th {\n",
       "        text-align: right;\n",
       "    }\n",
       "</style>\n",
       "<table border=\"1\" class=\"dataframe\">\n",
       "  <thead>\n",
       "    <tr style=\"text-align: right;\">\n",
       "      <th></th>\n",
       "      <th>video_id</th>\n",
       "      <th>video_keywords</th>\n",
       "    </tr>\n",
       "  </thead>\n",
       "  <tbody>\n",
       "    <tr>\n",
       "      <th>0</th>\n",
       "      <td>7273221955937914155</td>\n",
       "      <td>['angels', 'tibet', 'angels', 'tibet', 'dance'...</td>\n",
       "    </tr>\n",
       "    <tr>\n",
       "      <th>1</th>\n",
       "      <td>7285397643725983008</td>\n",
       "      <td>['dream', 'academy', 'angels', 'tibet', 'adela...</td>\n",
       "    </tr>\n",
       "    <tr>\n",
       "      <th>2</th>\n",
       "      <td>7309159185550183723</td>\n",
       "      <td>['flights', 'people', 'amazon', 'student', 'pr...</td>\n",
       "    </tr>\n",
       "    <tr>\n",
       "      <th>3</th>\n",
       "      <td>7308541182819175722</td>\n",
       "      <td>['replying', 'emily', 'today', 'making', 'diy'...</td>\n",
       "    </tr>\n",
       "    <tr>\n",
       "      <th>4</th>\n",
       "      <td>7307649122918567211</td>\n",
       "      <td>['nattie', 'christmas', 'tree', 'sad', 'baby',...</td>\n",
       "    </tr>\n",
       "    <tr>\n",
       "      <th>...</th>\n",
       "      <td>...</td>\n",
       "      <td>...</td>\n",
       "    </tr>\n",
       "    <tr>\n",
       "      <th>13546</th>\n",
       "      <td>7286461444554624299</td>\n",
       "      <td>['university', 'pittsburgh', 'assignment', 'un...</td>\n",
       "    </tr>\n",
       "    <tr>\n",
       "      <th>13547</th>\n",
       "      <td>7285527057394584863</td>\n",
       "      <td>['might', 'new', 'theyve', 'grinding', 'long',...</td>\n",
       "    </tr>\n",
       "    <tr>\n",
       "      <th>13548</th>\n",
       "      <td>7284024264334806315</td>\n",
       "      <td>['chipotle', 'chipotle', 'burrito', 'chipotle'...</td>\n",
       "    </tr>\n",
       "    <tr>\n",
       "      <th>13549</th>\n",
       "      <td>7284462467290303787</td>\n",
       "      <td>['could', 'make', 'way', 'cuter', 'video', 'hi...</td>\n",
       "    </tr>\n",
       "    <tr>\n",
       "      <th>13550</th>\n",
       "      <td>7286843613030518059</td>\n",
       "      <td>['gotcha', 'tswizzle', 'storyofus', 'silencequ...</td>\n",
       "    </tr>\n",
       "  </tbody>\n",
       "</table>\n",
       "<p>13551 rows × 2 columns</p>\n",
       "</div>"
      ],
      "text/plain": [
       "                  video_id                                     video_keywords\n",
       "0      7273221955937914155  ['angels', 'tibet', 'angels', 'tibet', 'dance'...\n",
       "1      7285397643725983008  ['dream', 'academy', 'angels', 'tibet', 'adela...\n",
       "2      7309159185550183723  ['flights', 'people', 'amazon', 'student', 'pr...\n",
       "3      7308541182819175722  ['replying', 'emily', 'today', 'making', 'diy'...\n",
       "4      7307649122918567211  ['nattie', 'christmas', 'tree', 'sad', 'baby',...\n",
       "...                    ...                                                ...\n",
       "13546  7286461444554624299  ['university', 'pittsburgh', 'assignment', 'un...\n",
       "13547  7285527057394584863  ['might', 'new', 'theyve', 'grinding', 'long',...\n",
       "13548  7284024264334806315  ['chipotle', 'chipotle', 'burrito', 'chipotle'...\n",
       "13549  7284462467290303787  ['could', 'make', 'way', 'cuter', 'video', 'hi...\n",
       "13550  7286843613030518059  ['gotcha', 'tswizzle', 'storyofus', 'silencequ...\n",
       "\n",
       "[13551 rows x 2 columns]"
      ]
     },
     "execution_count": 16,
     "metadata": {},
     "output_type": "execute_result"
    }
   ],
   "source": [
    "df"
   ]
  },
  {
   "cell_type": "code",
   "execution_count": 23,
   "metadata": {},
   "outputs": [
    {
     "data": {
      "text/plain": [
       "43198"
      ]
     },
     "execution_count": 23,
     "metadata": {},
     "output_type": "execute_result"
    }
   ],
   "source": [
    "all_keywords = [keyword for sublist in df['video_keywords'] for keyword in sublist]\n",
    "unique_keywords = list(set(all_keywords))\n",
    "len(unique_keywords)"
   ]
  },
  {
   "cell_type": "code",
   "execution_count": 24,
   "metadata": {},
   "outputs": [],
   "source": [
    "import tensorflow as tf\n",
    "import tensorflow_hub as hub\n",
    "import numpy as np\n",
    "\n",
    "# Load the Universal Sentence Encoder's TF Hub module\n",
    "embed = hub.load(\"https://tfhub.dev/google/universal-sentence-encoder/4\")"
   ]
  },
  {
   "cell_type": "code",
   "execution_count": 25,
   "metadata": {},
   "outputs": [],
   "source": [
    "keywordEmbed = embed(unique_keywords)"
   ]
  },
  {
   "cell_type": "code",
   "execution_count": 26,
   "metadata": {},
   "outputs": [],
   "source": [
    "import numpy as np\n",
    "from sklearn.decomposition import PCA"
   ]
  },
  {
   "cell_type": "code",
   "execution_count": 49,
   "metadata": {},
   "outputs": [],
   "source": [
    "pca = PCA(n_components=2)\n",
    "transformed_data = pca.fit_transform(keywordEmbed)"
   ]
  },
  {
   "cell_type": "code",
   "execution_count": 43,
   "metadata": {},
   "outputs": [],
   "source": [
    "import matplotlib.pyplot as plt"
   ]
  },
  {
   "cell_type": "code",
   "execution_count": 50,
   "metadata": {},
   "outputs": [
    {
     "data": {
      "text/plain": [
       "<function matplotlib.pyplot.show(close=None, block=None)>"
      ]
     },
     "execution_count": 50,
     "metadata": {},
     "output_type": "execute_result"
    },
    {
     "data": {
      "image/png": "[encoded data removed]",
      "text/plain": [
       "<Figure size 800x600 with 1 Axes>"
      ]
     },
     "metadata": {},
     "output_type": "display_data"
    }
   ],
   "source": [
    "plt.figure(figsize=(8, 6))\n",
    "plt.scatter(transformed_data[:, 0], transformed_data[:, 1], alpha=0.5)\n",
    "plt.title('PCA Visualization of Keyword Embeddings')\n",
    "plt.xlabel('Principal Component 1')\n",
    "plt.ylabel('Principal Component 2')\n",
    "plt.grid(True)\n",
    "plt.show"
   ]
  },
  {
   "cell_type": "code",
   "execution_count": 48,
   "metadata": {},
   "outputs": [],
   "source": [
    "df['sentence'] = df['video_keywords'].apply(lambda x: ' '.join(x))\n",
    "\n",
    "keywordEmbed = embed(df['sentence'].head(500))"
   ]
  },
  {
   "cell_type": "code",
   "execution_count": null,
   "metadata": {},
   "outputs": [],
   "source": []
  },
  {
   "cell_type": "code",
   "execution_count": 2,
   "metadata": {},
   "outputs": [
    {
     "data": {
      "text/plain": [
       "['economy',\n",
       " 'constitution',\n",
       " 'breakingnews',\n",
       " 'noticias',\n",
       " 'scotus',\n",
       " 'mediawatch',\n",
       " 'historytok',\n",
       " 'liberal',\n",
       " 'crime',\n",
       " 'conservative']"
      ]
     },
     "execution_count": 2,
     "metadata": {},
     "output_type": "execute_result"
    }
   ],
   "source": [
    "# get the news hashtags\n",
    "import json\n",
    "news = json.load(open('news-hashtags.json'))\n",
    "news[:10]"
   ]
  },
  {
   "cell_type": "code",
   "execution_count": 3,
   "metadata": {},
   "outputs": [
    {
     "data": {
      "text/plain": [
       "TensorShape([129, 512])"
      ]
     },
     "execution_count": 3,
     "metadata": {},
     "output_type": "execute_result"
    }
   ],
   "source": [
    "# remember that we loaded the model in the prior section\n",
    "newsEmbed = embed(news)\n",
    "newsEmbed.shape\n"
   ]
  },
  {
   "cell_type": "code",
   "execution_count": 7,
   "metadata": {},
   "outputs": [
    {
     "data": {
      "text/plain": [
       "array([2, 0, 1, 2, 0, 2, 2, 0, 2, 0], dtype=int32)"
      ]
     },
     "execution_count": 7,
     "metadata": {},
     "output_type": "execute_result"
    }
   ],
   "source": [
    "from sklearn.cluster import KMeans\n",
    "\n",
    "k = 3\n",
    "kmeans = KMeans(n_clusters=k, random_state=42)\n",
    "clusters = kmeans.fit_predict(newsEmbed)\n",
    "\n",
    "clusters[:10]"
   ]
  },
  {
   "cell_type": "code",
   "execution_count": 4,
   "metadata": {},
   "outputs": [],
   "source": [
    "from sklearn.manifold import TSNE\n",
    "\n",
    "tsne = TSNE(n_components=2, random_state=42)  \n",
    "tsne_results = tsne.fit_transform(newsEmbed)"
   ]
  },
  {
   "cell_type": "code",
   "execution_count": 8,
   "metadata": {},
   "outputs": [
    {
     "data": {
      "text/html": [
       "<div>\n",
       "<style scoped>\n",
       "    .dataframe tbody tr th:only-of-type {\n",
       "        vertical-align: middle;\n",
       "    }\n",
       "\n",
       "    .dataframe tbody tr th {\n",
       "        vertical-align: top;\n",
       "    }\n",
       "\n",
       "    .dataframe thead th {\n",
       "        text-align: right;\n",
       "    }\n",
       "</style>\n",
       "<table border=\"1\" class=\"dataframe\">\n",
       "  <thead>\n",
       "    <tr style=\"text-align: right;\">\n",
       "      <th></th>\n",
       "      <th>tsne_1</th>\n",
       "      <th>tsne_2</th>\n",
       "      <th>hashtag</th>\n",
       "      <th>cluster</th>\n",
       "    </tr>\n",
       "  </thead>\n",
       "  <tbody>\n",
       "    <tr>\n",
       "      <th>0</th>\n",
       "      <td>-4.127779</td>\n",
       "      <td>3.591462</td>\n",
       "      <td>economy</td>\n",
       "      <td>2</td>\n",
       "    </tr>\n",
       "    <tr>\n",
       "      <th>1</th>\n",
       "      <td>0.491287</td>\n",
       "      <td>4.877659</td>\n",
       "      <td>constitution</td>\n",
       "      <td>0</td>\n",
       "    </tr>\n",
       "    <tr>\n",
       "      <th>2</th>\n",
       "      <td>0.130666</td>\n",
       "      <td>-2.651469</td>\n",
       "      <td>breakingnews</td>\n",
       "      <td>1</td>\n",
       "    </tr>\n",
       "    <tr>\n",
       "      <th>3</th>\n",
       "      <td>1.710194</td>\n",
       "      <td>10.082147</td>\n",
       "      <td>noticias</td>\n",
       "      <td>2</td>\n",
       "    </tr>\n",
       "    <tr>\n",
       "      <th>4</th>\n",
       "      <td>0.559678</td>\n",
       "      <td>5.412064</td>\n",
       "      <td>scotus</td>\n",
       "      <td>0</td>\n",
       "    </tr>\n",
       "  </tbody>\n",
       "</table>\n",
       "</div>"
      ],
      "text/plain": [
       "     tsne_1     tsne_2       hashtag  cluster\n",
       "0 -4.127779   3.591462       economy        2\n",
       "1  0.491287   4.877659  constitution        0\n",
       "2  0.130666  -2.651469  breakingnews        1\n",
       "3  1.710194  10.082147      noticias        2\n",
       "4  0.559678   5.412064        scotus        0"
      ]
     },
     "execution_count": 8,
     "metadata": {},
     "output_type": "execute_result"
    }
   ],
   "source": [
    "import pandas as pd\n",
    "\n",
    "df = pd.DataFrame(tsne_results, columns=['tsne_1', 'tsne_2'])\n",
    "df['hashtag'] = news  \n",
    "df['cluster'] = clusters # the cluster indices where each news hashtags belong\n",
    "df.head()"
   ]
  },
  {
   "cell_type": "code",
   "execution_count": 9,
   "metadata": {},
   "outputs": [
    {
     "data": {
      "application/vnd.plotly.v1+json": {
       "config": {
        "plotlyServerURL": "https://plot.ly"
       },
       "data": [
        {
         "hovertemplate": "tsne_1=%{x}<br>tsne_2=%{y}<br>hashtag=%{text}<br>cluster=%{marker.color}<extra></extra>",
         "legendgroup": "",
         "marker": {
          "color": [
           2,
           0,
           1,
           2,
           0,
           2,
           2,
           0,
           2,
           0,
           1,
           0,
           0,
           0,
           2,
           0,
           0,
           2,
           1,
           0,
           0,
           2,
           0,
           1,
           2,
           1,
           1,
           0,
           2,
           0,
           2,
           2,
           0,
           2,
           2,
           0,
           1,
           2,
           1,
           1,
           2,
           2,
           2,
           0,
           1,
           0,
           1,
           0,
           0,
           2,
           1,
           1,
           1,
           1,
           0,
           0,
           1,
           0,
           1,
           0,
           0,
           0,
           1,
           0,
           1,
           0,
           1,
           2,
           1,
           1,
           0,
           2,
           1,
           1,
           0,
           2,
           1,
           2,
           1,
           1,
           2,
           2,
           1,
           2,
           0,
           0,
           1,
           1,
           2,
           1,
           1,
           0,
           2,
           0,
           2,
           2,
           0,
           2,
           0,
           1,
           1,
           0,
           0,
           0,
           1,
           1,
           2,
           1,
           1,
           1,
           1,
           1,
           2,
           1,
           1,
           2,
           1,
           1,
           1,
           2,
           2,
           1,
           1,
           1,
           2,
           2,
           1,
           0,
           2
          ],
          "coloraxis": "coloraxis",
          "symbol": "circle"
         },
         "mode": "markers+text",
         "name": "",
         "orientation": "v",
         "showlegend": false,
         "text": [
          "economy",
          "constitution",
          "breakingnews",
          "noticias",
          "scotus",
          "mediawatch",
          "historytok",
          "liberal",
          "crime",
          "conservative",
          "militarynews ",
          "netanyahu",
          "republicans",
          "republican",
          "currentevents",
          "gaza",
          "democrat",
          "supremecourt",
          "topstories",
          "journalism",
          "rightwing",
          "inflation",
          "russia",
          "uselections",
          "abcnews",
          "viralnews",
          "covid",
          "foxnews",
          "berita",
          "liberalism",
          "vote",
          "quicknews",
          "putin",
          "internationalnews ",
          "unitednations",
          "cnn",
          "kenyanews",
          "ballot",
          "2024president",
          "technews",
          "azimio",
          "joebiden",
          "breaking",
          "protests",
          "FederalReserve",
          "msnbc",
          "healthnews",
          "fake news",
          "michigan",
          "election2024",
          "politicaltiktok",
          "newstiktok",
          "trumptrial",
          "learnontiktok",
          "newsweek",
          "ukraine",
          "newsafrica",
          "trump",
          "usaelections",
          "abortion",
          "vaccines",
          "ceasefire",
          "nbcnews",
          "blacklivesmatter",
          "newsattiktok",
          "israel",
          "uspolitics",
          "goodnews",
          "参議院",
          "NewsTok",
          "democrats",
          "bordercrisis",
          "supertuesday",
          "новости",
          "worldnews",
          "pandemic",
          "usnews",
          "fashionnews",
          "trump2024",
          "tiktokでニュース",
          "crimetok",
          "أخبار",
          "climatechange",
          "新闻",
          "election",
          "politics",
          "climategoals",
          "stateoftheunion",
          "usapolitics",
          "governmentshutdown",
          "trumprally",
          "congress",
          "climate",
          "nato",
          "trendingnews",
          "chinesepolitics",
          "townhall",
          "unemployment",
          "leftist",
          "newsupdate",
          "2024election",
          "biden",
          "palestine",
          "hamas",
          "uknews",
          "breakingnews2024",
          "aktualności",
          "reproductiverights",
          "2024debate",
          "houseofrepresentatives",
          "currentnews",
          "geonews",
          "economics",
          "noticiastiktok",
          "noticiasen1minuto",
          "PoliticalCommentary",
          "newsalert",
          "yahoonews",
          "breakingnewsalert",
          "liveupdates",
          "thedemocrats",
          "localnews",
          "2024breakingnews",
          "elections2022🇰🇪",
          "immigration",
          "oregonnews",
          "citizentvkenya",
          "cnbc",
          "news"
         ],
         "textfont": {
          "size": 6
         },
         "textposition": "top center",
         "type": "scatter",
         "x": [
          -4.12777853012085,
          0.491287499666214,
          0.1306658238172531,
          1.71019446849823,
          0.559678316116333,
          -1.0568302869796753,
          -4.190314292907715,
          -2.0294554233551025,
          -1.722862958908081,
          -2.0559489727020264,
          0.6750790476799011,
          6.224024295806885,
          -0.855331540107727,
          -0.9755204319953918,
          -3.478168249130249,
          6.856090545654297,
          -1.00601065158844,
          1.7526835203170776,
          5.5708088874816895,
          3.953110456466675,
          -0.7013645172119141,
          -4.812748908996582,
          3.921576976776123,
          3.8281586170196533,
          -1.6009260416030884,
          4.883899688720703,
          1.173399806022644,
          2.7283782958984375,
          -2.0052762031555176,
          -2.0531835556030273,
          0.980577826499939,
          -1.619495153427124,
          3.406923532485962,
          -1.4047378301620483,
          -0.9602283835411072,
          2.933075189590454,
          2.663170337677002,
          0.921796441078186,
          4.7848076820373535,
          2.4320883750915527,
          -4.653938293457031,
          -3.3106353282928467,
          1.0624388456344604,
          -0.20826222002506256,
          1.1643314361572266,
          2.8131697177886963,
          2.495215654373169,
          2.538425922393799,
          3.930699110031128,
          -1.1764075756072998,
          1.180234670639038,
          1.454775094985962,
          1.8084403276443481,
          1.5863993167877197,
          4.234491348266602,
          4.0424418449401855,
          1.1330037117004395,
          2.4730494022369385,
          3.6062231063842773,
          0.15350502729415894,
          4.928421497344971,
          6.753253936767578,
          1.89849853515625,
          -1.277644157409668,
          3.1807029247283936,
          6.324905872344971,
          5.228056907653809,
          -0.5058031678199768,
          -0.5214871168136597,
          4.487142086029053,
          -0.8046982884407043,
          -2.288661003112793,
          2.6483490467071533,
          2.428420066833496,
          1.8220747709274292,
          4.362499713897705,
          -0.10144701600074768,
          -2.5616531372070312,
          1.4332242012023926,
          -2.390399694442749,
          1.7533830404281616,
          2.254171371459961,
          -0.2182069569826126,
          -2.6515700817108154,
          0.5804646015167236,
          -0.8943777680397034,
          2.69213604927063,
          -1.7915353775024414,
          -0.6290789842605591,
          1.896168828010559,
          3.088008403778076,
          -0.08554042130708694,
          -2.8648648262023926,
          4.567387104034424,
          -3.5559356212615967,
          -1.08722984790802,
          -2.815108060836792,
          -3.7773780822753906,
          -0.7007215023040771,
          3.354748487472534,
          0.5741885900497437,
          2.1041457653045654,
          6.562121868133545,
          6.893373966217041,
          0.6601395606994629,
          0.045152537524700165,
          -0.8355076909065247,
          0.2582169473171234,
          -2.6188507080078125,
          4.484324932098389,
          2.4689056873321533,
          -0.19989265501499176,
          -4.222222805023193,
          1.6970738172531128,
          0.5563948750495911,
          0.2975335419178009,
          -0.049082182347774506,
          -4.438785076141357,
          3.869703769683838,
          -2.22815203666687,
          -3.8411917686462402,
          0.387808620929718,
          3.144814968109131,
          -2.820685386657715,
          -3.2282180786132812,
          -0.2590186595916748,
          4.290266513824463,
          3.447148323059082,
          1.8949675559997559
         ],
         "xaxis": "x",
         "y": [
          3.5914621353149414,
          4.877658843994141,
          -2.6514692306518555,
          10.082146644592285,
          5.4120635986328125,
          -4.701240062713623,
          -4.492225646972656,
          8.168274879455566,
          4.251826286315918,
          8.307821273803711,
          -5.235243797302246,
          3.981356382369995,
          6.578703880310059,
          6.905290603637695,
          -2.056060791015625,
          3.795841693878174,
          6.97958517074585,
          -0.9146844148635864,
          -3.5299832820892334,
          9.174457550048828,
          8.78359317779541,
          2.791045665740967,
          4.932339668273926,
          -3.7738797664642334,
          -3.2779321670532227,
          -4.765837669372559,
          -2.3192083835601807,
          8.46341323852539,
          -5.240518093109131,
          8.07404899597168,
          3.2747604846954346,
          -0.7577949166297913,
          5.31627082824707,
          0.9472848773002625,
          -3.3995301723480225,
          9.217748641967773,
          -2.988492250442505,
          3.354557991027832,
          -6.693573474884033,
          -6.1531453132629395,
          -4.268238067626953,
          -5.845109462738037,
          0.8724155426025391,
          3.522341251373291,
          -3.679053783416748,
          8.28592300415039,
          -7.507654666900635,
          9.741067886352539,
          4.102359771728516,
          -1.1741306781768799,
          -6.698171615600586,
          -8.416624069213867,
          -3.791715145111084,
          -6.220300674438477,
          9.063955307006836,
          4.865602970123291,
          -0.3027999997138977,
          5.642031669616699,
          -5.077118396759033,
          6.190587520599365,
          -0.34057044982910156,
          2.7775251865386963,
          -1.6147968769073486,
          3.624561309814453,
          -4.4043121337890625,
          4.395930767059326,
          -4.970961570739746,
          -0.639220118522644,
          -2.0318899154663086,
          -1.3065783977508545,
          6.583915710449219,
          -6.13328218460083,
          -5.629897117614746,
          -5.5988311767578125,
          8.736088752746582,
          0.6377487778663635,
          -8.618208885192871,
          -1.3657870292663574,
          -4.277751445770264,
          -2.7355010509490967,
          -1.749987006187439,
          -0.14999261498451233,
          -5.935064792633057,
          -0.03948025777935982,
          3.725949764251709,
          5.044865131378174,
          -6.479409694671631,
          -2.1927807331085205,
          -4.402154445648193,
          -5.372531414031982,
          -3.082125425338745,
          4.968170166015625,
          3.2011756896972656,
          5.460170745849609,
          -2.8508574962615967,
          -2.4868292808532715,
          6.165528297424316,
          4.400303363800049,
          8.805286407470703,
          -1.763497233390808,
          -0.8521708846092224,
          6.9113240242004395,
          4.323426246643066,
          3.6790285110473633,
          -3.156998872756958,
          -4.090831756591797,
          -2.9442949295043945,
          -2.303262710571289,
          -2.6106557846069336,
          -2.883657693862915,
          -4.139880657196045,
          -1.4273669719696045,
          3.6252286434173584,
          -2.5550289154052734,
          -4.890722274780273,
          -1.290856122970581,
          -6.364709854125977,
          -2.1008079051971436,
          -6.7601518630981445,
          -4.144292831420898,
          -0.5934443473815918,
          -3.814368963241577,
          -4.179603099822998,
          -4.503387928009033,
          4.163663387298584,
          -0.4204055666923523,
          -5.946359634399414,
          8.291999816894531,
          9.808067321777344
         ],
         "yaxis": "y"
        }
       ],
       "layout": {
        "coloraxis": {
         "colorbar": {
          "title": {
           "text": "cluster"
          }
         },
         "colorscale": [
          [
           0,
           "rgb(0,0,255)"
          ],
          [
           1,
           "rgb(255,0,0)"
          ]
         ]
        },
        "height": 800,
        "legend": {
         "tracegroupgap": 0
        },
        "margin": {
         "t": 60
        },
        "template": {
         "data": {
          "bar": [
           {
            "error_x": {
             "color": "#2a3f5f"
            },
            "error_y": {
             "color": "#2a3f5f"
            },
            "marker": {
             "line": {
              "color": "#E5ECF6",
              "width": 0.5
             },
             "pattern": {
              "fillmode": "overlay",
              "size": 10,
              "solidity": 0.2
             }
            },
            "type": "bar"
           }
          ],
          "barpolar": [
           {
            "marker": {
             "line": {
              "color": "#E5ECF6",
              "width": 0.5
             },
             "pattern": {
              "fillmode": "overlay",
              "size": 10,
              "solidity": 0.2
             }
            },
            "type": "barpolar"
           }
          ],
          "carpet": [
           {
            "aaxis": {
             "endlinecolor": "#2a3f5f",
             "gridcolor": "white",
             "linecolor": "white",
             "minorgridcolor": "white",
             "startlinecolor": "#2a3f5f"
            },
            "baxis": {
             "endlinecolor": "#2a3f5f",
             "gridcolor": "white",
             "linecolor": "white",
             "minorgridcolor": "white",
             "startlinecolor": "#2a3f5f"
            },
            "type": "carpet"
           }
          ],
          "choropleth": [
           {
            "colorbar": {
             "outlinewidth": 0,
             "ticks": ""
            },
            "type": "choropleth"
           }
          ],
          "contour": [
           {
            "colorbar": {
             "outlinewidth": 0,
             "ticks": ""
            },
            "colorscale": [
             [
              0,
              "#0d0887"
             ],
             [
              0.1111111111111111,
              "#46039f"
             ],
             [
              0.2222222222222222,
              "#7201a8"
             ],
             [
              0.3333333333333333,
              "#9c179e"
             ],
             [
              0.4444444444444444,
              "#bd3786"
             ],
             [
              0.5555555555555556,
              "#d8576b"
             ],
             [
              0.6666666666666666,
              "#ed7953"
             ],
             [
              0.7777777777777778,
              "#fb9f3a"
             ],
             [
              0.8888888888888888,
              "#fdca26"
             ],
             [
              1,
              "#f0f921"
             ]
            ],
            "type": "contour"
           }
          ],
          "contourcarpet": [
           {
            "colorbar": {
             "outlinewidth": 0,
             "ticks": ""
            },
            "type": "contourcarpet"
           }
          ],
          "heatmap": [
           {
            "colorbar": {
             "outlinewidth": 0,
             "ticks": ""
            },
            "colorscale": [
             [
              0,
              "#0d0887"
             ],
             [
              0.1111111111111111,
              "#46039f"
             ],
             [
              0.2222222222222222,
              "#7201a8"
             ],
             [
              0.3333333333333333,
              "#9c179e"
             ],
             [
              0.4444444444444444,
              "#bd3786"
             ],
             [
              0.5555555555555556,
              "#d8576b"
             ],
             [
              0.6666666666666666,
              "#ed7953"
             ],
             [
              0.7777777777777778,
              "#fb9f3a"
             ],
             [
              0.8888888888888888,
              "#fdca26"
             ],
             [
              1,
              "#f0f921"
             ]
            ],
            "type": "heatmap"
           }
          ],
          "heatmapgl": [
           {
            "colorbar": {
             "outlinewidth": 0,
             "ticks": ""
            },
            "colorscale": [
             [
              0,
              "#0d0887"
             ],
             [
              0.1111111111111111,
              "#46039f"
             ],
             [
              0.2222222222222222,
              "#7201a8"
             ],
             [
              0.3333333333333333,
              "#9c179e"
             ],
             [
              0.4444444444444444,
              "#bd3786"
             ],
             [
              0.5555555555555556,
              "#d8576b"
             ],
             [
              0.6666666666666666,
              "#ed7953"
             ],
             [
              0.7777777777777778,
              "#fb9f3a"
             ],
             [
              0.8888888888888888,
              "#fdca26"
             ],
             [
              1,
              "#f0f921"
             ]
            ],
            "type": "heatmapgl"
           }
          ],
          "histogram": [
           {
            "marker": {
             "pattern": {
              "fillmode": "overlay",
              "size": 10,
              "solidity": 0.2
             }
            },
            "type": "histogram"
           }
          ],
          "histogram2d": [
           {
            "colorbar": {
             "outlinewidth": 0,
             "ticks": ""
            },
            "colorscale": [
             [
              0,
              "#0d0887"
             ],
             [
              0.1111111111111111,
              "#46039f"
             ],
             [
              0.2222222222222222,
              "#7201a8"
             ],
             [
              0.3333333333333333,
              "#9c179e"
             ],
             [
              0.4444444444444444,
              "#bd3786"
             ],
             [
              0.5555555555555556,
              "#d8576b"
             ],
             [
              0.6666666666666666,
              "#ed7953"
             ],
             [
              0.7777777777777778,
              "#fb9f3a"
             ],
             [
              0.8888888888888888,
              "#fdca26"
             ],
             [
              1,
              "#f0f921"
             ]
            ],
            "type": "histogram2d"
           }
          ],
          "histogram2dcontour": [
           {
            "colorbar": {
             "outlinewidth": 0,
             "ticks": ""
            },
            "colorscale": [
             [
              0,
              "#0d0887"
             ],
             [
              0.1111111111111111,
              "#46039f"
             ],
             [
              0.2222222222222222,
              "#7201a8"
             ],
             [
              0.3333333333333333,
              "#9c179e"
             ],
             [
              0.4444444444444444,
              "#bd3786"
             ],
             [
              0.5555555555555556,
              "#d8576b"
             ],
             [
              0.6666666666666666,
              "#ed7953"
             ],
             [
              0.7777777777777778,
              "#fb9f3a"
             ],
             [
              0.8888888888888888,
              "#fdca26"
             ],
             [
              1,
              "#f0f921"
             ]
            ],
            "type": "histogram2dcontour"
           }
          ],
          "mesh3d": [
           {
            "colorbar": {
             "outlinewidth": 0,
             "ticks": ""
            },
            "type": "mesh3d"
           }
          ],
          "parcoords": [
           {
            "line": {
             "colorbar": {
              "outlinewidth": 0,
              "ticks": ""
             }
            },
            "type": "parcoords"
           }
          ],
          "pie": [
           {
            "automargin": true,
            "type": "pie"
           }
          ],
          "scatter": [
           {
            "fillpattern": {
             "fillmode": "overlay",
             "size": 10,
             "solidity": 0.2
            },
            "type": "scatter"
           }
          ],
          "scatter3d": [
           {
            "line": {
             "colorbar": {
              "outlinewidth": 0,
              "ticks": ""
             }
            },
            "marker": {
             "colorbar": {
              "outlinewidth": 0,
              "ticks": ""
             }
            },
            "type": "scatter3d"
           }
          ],
          "scattercarpet": [
           {
            "marker": {
             "colorbar": {
              "outlinewidth": 0,
              "ticks": ""
             }
            },
            "type": "scattercarpet"
           }
          ],
          "scattergeo": [
           {
            "marker": {
             "colorbar": {
              "outlinewidth": 0,
              "ticks": ""
             }
            },
            "type": "scattergeo"
           }
          ],
          "scattergl": [
           {
            "marker": {
             "colorbar": {
              "outlinewidth": 0,
              "ticks": ""
             }
            },
            "type": "scattergl"
           }
          ],
          "scattermapbox": [
           {
            "marker": {
             "colorbar": {
              "outlinewidth": 0,
              "ticks": ""
             }
            },
            "type": "scattermapbox"
           }
          ],
          "scatterpolar": [
           {
            "marker": {
             "colorbar": {
              "outlinewidth": 0,
              "ticks": ""
             }
            },
            "type": "scatterpolar"
           }
          ],
          "scatterpolargl": [
           {
            "marker": {
             "colorbar": {
              "outlinewidth": 0,
              "ticks": ""
             }
            },
            "type": "scatterpolargl"
           }
          ],
          "scatterternary": [
           {
            "marker": {
             "colorbar": {
              "outlinewidth": 0,
              "ticks": ""
             }
            },
            "type": "scatterternary"
           }
          ],
          "surface": [
           {
            "colorbar": {
             "outlinewidth": 0,
             "ticks": ""
            },
            "colorscale": [
             [
              0,
              "#0d0887"
             ],
             [
              0.1111111111111111,
              "#46039f"
             ],
             [
              0.2222222222222222,
              "#7201a8"
             ],
             [
              0.3333333333333333,
              "#9c179e"
             ],
             [
              0.4444444444444444,
              "#bd3786"
             ],
             [
              0.5555555555555556,
              "#d8576b"
             ],
             [
              0.6666666666666666,
              "#ed7953"
             ],
             [
              0.7777777777777778,
              "#fb9f3a"
             ],
             [
              0.8888888888888888,
              "#fdca26"
             ],
             [
              1,
              "#f0f921"
             ]
            ],
            "type": "surface"
           }
          ],
          "table": [
           {
            "cells": {
             "fill": {
              "color": "#EBF0F8"
             },
             "line": {
              "color": "white"
             }
            },
            "header": {
             "fill": {
              "color": "#C8D4E3"
             },
             "line": {
              "color": "white"
             }
            },
            "type": "table"
           }
          ]
         },
         "layout": {
          "annotationdefaults": {
           "arrowcolor": "#2a3f5f",
           "arrowhead": 0,
           "arrowwidth": 1
          },
          "autotypenumbers": "strict",
          "coloraxis": {
           "colorbar": {
            "outlinewidth": 0,
            "ticks": ""
           }
          },
          "colorscale": {
           "diverging": [
            [
             0,
             "#8e0152"
            ],
            [
             0.1,
             "#c51b7d"
            ],
            [
             0.2,
             "#de77ae"
            ],
            [
             0.3,
             "#f1b6da"
            ],
            [
             0.4,
             "#fde0ef"
            ],
            [
             0.5,
             "#f7f7f7"
            ],
            [
             0.6,
             "#e6f5d0"
            ],
            [
             0.7,
             "#b8e186"
            ],
            [
             0.8,
             "#7fbc41"
            ],
            [
             0.9,
             "#4d9221"
            ],
            [
             1,
             "#276419"
            ]
           ],
           "sequential": [
            [
             0,
             "#0d0887"
            ],
            [
             0.1111111111111111,
             "#46039f"
            ],
            [
             0.2222222222222222,
             "#7201a8"
            ],
            [
             0.3333333333333333,
             "#9c179e"
            ],
            [
             0.4444444444444444,
             "#bd3786"
            ],
            [
             0.5555555555555556,
             "#d8576b"
            ],
            [
             0.6666666666666666,
             "#ed7953"
            ],
            [
             0.7777777777777778,
             "#fb9f3a"
            ],
            [
             0.8888888888888888,
             "#fdca26"
            ],
            [
             1,
             "#f0f921"
            ]
           ],
           "sequentialminus": [
            [
             0,
             "#0d0887"
            ],
            [
             0.1111111111111111,
             "#46039f"
            ],
            [
             0.2222222222222222,
             "#7201a8"
            ],
            [
             0.3333333333333333,
             "#9c179e"
            ],
            [
             0.4444444444444444,
             "#bd3786"
            ],
            [
             0.5555555555555556,
             "#d8576b"
            ],
            [
             0.6666666666666666,
             "#ed7953"
            ],
            [
             0.7777777777777778,
             "#fb9f3a"
            ],
            [
             0.8888888888888888,
             "#fdca26"
            ],
            [
             1,
             "#f0f921"
            ]
           ]
          },
          "colorway": [
           "#636efa",
           "#EF553B",
           "#00cc96",
           "#ab63fa",
           "#FFA15A",
           "#19d3f3",
           "#FF6692",
           "#B6E880",
           "#FF97FF",
           "#FECB52"
          ],
          "font": {
           "color": "#2a3f5f"
          },
          "geo": {
           "bgcolor": "white",
           "lakecolor": "white",
           "landcolor": "#E5ECF6",
           "showlakes": true,
           "showland": true,
           "subunitcolor": "white"
          },
          "hoverlabel": {
           "align": "left"
          },
          "hovermode": "closest",
          "mapbox": {
           "style": "light"
          },
          "paper_bgcolor": "white",
          "plot_bgcolor": "#E5ECF6",
          "polar": {
           "angularaxis": {
            "gridcolor": "white",
            "linecolor": "white",
            "ticks": ""
           },
           "bgcolor": "#E5ECF6",
           "radialaxis": {
            "gridcolor": "white",
            "linecolor": "white",
            "ticks": ""
           }
          },
          "scene": {
           "xaxis": {
            "backgroundcolor": "#E5ECF6",
            "gridcolor": "white",
            "gridwidth": 2,
            "linecolor": "white",
            "showbackground": true,
            "ticks": "",
            "zerolinecolor": "white"
           },
           "yaxis": {
            "backgroundcolor": "#E5ECF6",
            "gridcolor": "white",
            "gridwidth": 2,
            "linecolor": "white",
            "showbackground": true,
            "ticks": "",
            "zerolinecolor": "white"
           },
           "zaxis": {
            "backgroundcolor": "#E5ECF6",
            "gridcolor": "white",
            "gridwidth": 2,
            "linecolor": "white",
            "showbackground": true,
            "ticks": "",
            "zerolinecolor": "white"
           }
          },
          "shapedefaults": {
           "line": {
            "color": "#2a3f5f"
           }
          },
          "ternary": {
           "aaxis": {
            "gridcolor": "white",
            "linecolor": "white",
            "ticks": ""
           },
           "baxis": {
            "gridcolor": "white",
            "linecolor": "white",
            "ticks": ""
           },
           "bgcolor": "#E5ECF6",
           "caxis": {
            "gridcolor": "white",
            "linecolor": "white",
            "ticks": ""
           }
          },
          "title": {
           "x": 0.05
          },
          "xaxis": {
           "automargin": true,
           "gridcolor": "white",
           "linecolor": "white",
           "ticks": "",
           "title": {
            "standoff": 15
           },
           "zerolinecolor": "white",
           "zerolinewidth": 2
          },
          "yaxis": {
           "automargin": true,
           "gridcolor": "white",
           "linecolor": "white",
           "ticks": "",
           "title": {
            "standoff": 15
           },
           "zerolinecolor": "white",
           "zerolinewidth": 2
          }
         }
        },
        "title": {
         "text": "Embeddings of TikTok News Hashtags"
        },
        "width": 800,
        "xaxis": {
         "anchor": "y",
         "domain": [
          0,
          1
         ],
         "title": {
          "text": "tsne_1"
         }
        },
        "yaxis": {
         "anchor": "x",
         "domain": [
          0,
          1
         ],
         "title": {
          "text": "tsne_2"
         }
        }
       }
      }
     },
     "metadata": {},
     "output_type": "display_data"
    }
   ],
   "source": [
    "import plotly.express as px\n",
    "\n",
    "# Create the scatter plot\n",
    "fig = px.scatter(df, x='tsne_1', y='tsne_2', text='hashtag', color=\"cluster\", color_continuous_scale=\"BlueRed\")\n",
    "\n",
    "# Format what to show next to the markers\n",
    "fig.update_traces(textposition='top center', \n",
    "                  mode='markers+text', \n",
    "                  textfont=dict(size=6))\n",
    "\n",
    "fig.update_layout(title='Embeddings of TikTok News Hashtags', width=800, height=800)\n",
    "fig.show()"
   ]
  },
  {
   "cell_type": "markdown",
   "metadata": {},
   "source": []
  },
  {
   "cell_type": "code",
   "execution_count": null,
   "metadata": {},
   "outputs": [],
   "source": []
  }
 ],
 "metadata": {
  "kernelspec": {
   "display_name": ".project2",
   "language": "python",
   "name": "python3"
  },
  "language_info": {
   "codemirror_mode": {
    "name": "ipython",
    "version": 3
   },
   "file_extension": ".py",
   "mimetype": "text/x-python",
   "name": "python",
   "nbconvert_exporter": "python",
   "pygments_lexer": "ipython3",
   "version": "3.12.0"
  }
 },
 "nbformat": 4,
 "nbformat_minor": 2
}
